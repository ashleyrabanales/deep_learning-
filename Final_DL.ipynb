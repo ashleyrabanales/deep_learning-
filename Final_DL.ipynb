{
 "cells": [
  {
   "cell_type": "code",
   "execution_count": 24,
   "metadata": {},
   "outputs": [],
   "source": [
    "import pandas as pd\n",
    "import numpy as np\n",
    "import matplotlib.pyplot as plt\n",
    "import tensorflow as tf\n",
    "import cv2\n",
    "import matplotlib.pyplot as plt\n",
    "from keras.datasets import mnist\n",
    "from keras.utils import to_categorical\n",
    "from keras.models import Sequential\n",
    "from keras.layers import Conv2D\n",
    "from keras.layers import MaxPooling2D\n",
    "from keras.layers import Dense\n",
    "from keras.layers import Flatten\n",
    "from keras.preprocessing.image import ImageDataGenerator\n",
    "import cv2\n",
    "import os # new\n",
    "from pathlib import Path\n",
    "import glob\n",
    "from tensorflow.keras.layers import Dense, Dropout, Flatten, Conv2D, MaxPooling2D, BatchNormalization\n",
    "import random\n",
    "from tensorflow.python.client import device_lib\n",
    "from tensorflow.keras.layers import Rescaling\n",
    "\n"
   ]
  },
  {
   "cell_type": "code",
   "execution_count": 4,
   "metadata": {},
   "outputs": [
    {
     "name": "stdout",
     "output_type": "stream",
     "text": [
      "[name: \"/device:CPU:0\"\n",
      "device_type: \"CPU\"\n",
      "memory_limit: 268435456\n",
      "locality {\n",
      "}\n",
      "incarnation: 5213384064948623403\n",
      "xla_global_id: -1\n",
      "]\n"
     ]
    },
    {
     "name": "stderr",
     "output_type": "stream",
     "text": [
      "2023-04-12 14:55:04.946640: I tensorflow/core/platform/cpu_feature_guard.cc:193] This TensorFlow binary is optimized with oneAPI Deep Neural Network Library (oneDNN) to use the following CPU instructions in performance-critical operations:  AVX2 FMA\n",
      "To enable them in other operations, rebuild TensorFlow with the appropriate compiler flags.\n"
     ]
    }
   ],
   "source": [
    "print(device_lib.list_local_devices())"
   ]
  },
  {
   "cell_type": "code",
   "execution_count": 28,
   "metadata": {},
   "outputs": [],
   "source": [
    "path = ('/Users/ashleyrabanales/asl_dataset/')"
   ]
  },
  {
   "cell_type": "code",
   "execution_count": 29,
   "metadata": {},
   "outputs": [
    {
     "name": "stdout",
     "output_type": "stream",
     "text": [
      ".DS_Store Number of images in folder: 0\n",
      "r Number of images in folder: 70\n",
      "u Number of images in folder: 70\n",
      "9 Number of images in folder: 70\n",
      "0 Number of images in folder: 70\n",
      "7 Number of images in folder: 70\n",
      "i Number of images in folder: 70\n",
      "n Number of images in folder: 70\n",
      "g Number of images in folder: 70\n",
      "6 Number of images in folder: 70\n",
      "z Number of images in folder: 70\n",
      "1 Number of images in folder: 70\n",
      "8 Number of images in folder: 70\n",
      "t Number of images in folder: 65\n",
      "s Number of images in folder: 70\n",
      "a Number of images in folder: 70\n",
      "f Number of images in folder: 70\n",
      "o Number of images in folder: 70\n",
      "h Number of images in folder: 70\n",
      "m Number of images in folder: 70\n",
      "j Number of images in folder: 70\n",
      "c Number of images in folder: 70\n",
      "d Number of images in folder: 70\n",
      "v Number of images in folder: 70\n",
      "q Number of images in folder: 70\n",
      "4 Number of images in folder: 70\n",
      "x Number of images in folder: 70\n",
      "3 Number of images in folder: 70\n",
      "e Number of images in folder: 70\n",
      "b Number of images in folder: 70\n",
      "k Number of images in folder: 70\n",
      "l Number of images in folder: 70\n",
      "2 Number of images in folder: 70\n",
      "y Number of images in folder: 70\n",
      "5 Number of images in folder: 70\n",
      "p Number of images in folder: 70\n",
      "w Number of images in folder: 70\n"
     ]
    }
   ],
   "source": [
    "for folder in os.listdir(path):\n",
    "    folder_path = os.path.join(path, folder)\n",
    "    image_files = glob.glob(os.path.join(folder_path, '*.jpeg'))\n",
    "    num_images = len(image_files)\n",
    "    print(folder, 'Number of images in folder:', num_images)"
   ]
  },
  {
   "cell_type": "code",
   "execution_count": 30,
   "metadata": {},
   "outputs": [
    {
     "name": "stdout",
     "output_type": "stream",
     "text": [
      "Found 2515 files belonging to 36 classes.\n",
      "Using 2012 files for training.\n"
     ]
    }
   ],
   "source": [
    "data = tf.keras.preprocessing.image_dataset_from_directory(\n",
    "    path,\n",
    "    image_size=(64, 64),\n",
    "    batch_size=32,\n",
    "    validation_split=0.2,\n",
    "    seed=123,\n",
    "    label_mode = 'categorical',\n",
    "    subset=\"training\")"
   ]
  },
  {
   "cell_type": "code",
   "execution_count": 31,
   "metadata": {},
   "outputs": [
    {
     "name": "stdout",
     "output_type": "stream",
     "text": [
      "Found 2515 files belonging to 36 classes.\n",
      "Using 503 files for validation.\n"
     ]
    }
   ],
   "source": [
    "train_size = int(0.8 * len(data))\n",
    "val_size = int(0.2 * len(data)) + 1\n",
    "train_data = data.take(train_size)\n",
    "val_data = data.skip(train_size).take(val_size)\n",
    "test_data = data = tf.keras.preprocessing.image_dataset_from_directory(\n",
    "    path,\n",
    "    image_size=(64, 64),\n",
    "    batch_size=32,\n",
    "    validation_split=0.2,\n",
    "    seed=123,\n",
    "    label_mode = 'categorical',\n",
    "    subset=\"validation\")"
   ]
  },
  {
   "cell_type": "code",
   "execution_count": 13,
   "metadata": {},
   "outputs": [],
   "source": [
    "train_data = train_data.cache().prefetch(tf.data.AUTOTUNE)\n",
    "test_data = test_data.cache().prefetch(tf.data.AUTOTUNE)"
   ]
  },
  {
   "cell_type": "code",
   "execution_count": 25,
   "metadata": {},
   "outputs": [],
   "source": [
    "def create_cnn_model():\n",
    "    model = tf.keras.Sequential([\n",
    "        Conv2D(64, (3, 3), padding=\"same\", activation=\"relu\"),\n",
    "        Rescaling(1./255),\n",
    "        MaxPooling2D(pool_size=(2, 2)),\n",
    "        Flatten(),\n",
    "        Dense(128, activation=\"relu\"),\n",
    "        Dense(10, activation=\"softmax\")\n",
    "    ])\n",
    "    return model\n",
    "\n",
    "\n",
    "model = create_cnn_model()"
   ]
  },
  {
   "cell_type": "code",
   "execution_count": null,
   "metadata": {},
   "outputs": [],
   "source": []
  }
 ],
 "metadata": {
  "kernelspec": {
   "display_name": "Python 3",
   "language": "python",
   "name": "python3"
  },
  "language_info": {
   "codemirror_mode": {
    "name": "ipython",
    "version": 3
   },
   "file_extension": ".py",
   "mimetype": "text/x-python",
   "name": "python",
   "nbconvert_exporter": "python",
   "pygments_lexer": "ipython3",
   "version": "3.10.9"
  },
  "orig_nbformat": 4
 },
 "nbformat": 4,
 "nbformat_minor": 2
}
