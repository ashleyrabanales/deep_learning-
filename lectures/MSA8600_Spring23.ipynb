{
  "cells": [
    {
      "cell_type": "markdown",
      "metadata": {
        "id": "_9r3McJrvg2V"
      },
      "source": [
        "# MSA 8600\n",
        "\n",
        "Please learn to work with `numpy` and `pandas`.\n",
        "\n",
        "- Scalar: a number.\n",
        "- Vector: a number with direction\n",
        "- Matrix: a 2-dimensional array of numbers\n",
        "- Tensor: an n-dimensional array of numbers (0-dim: scalar, 1-dim: vector, 2-dim: matrix)\n",
        "\n",
        "Note: We can not change constants. But we can change variables."
      ]
    },
    {
      "cell_type": "code",
      "execution_count": 1,
      "metadata": {
        "colab": {
          "base_uri": "https://localhost:8080/",
          "height": 36
        },
        "id": "BqLXTu8AvmkH",
        "outputId": "26570788-d99c-47eb-9f9f-beecf62e0ce1"
      },
      "outputs": [
        {
          "name": "stderr",
          "output_type": "stream",
          "text": [
            "2023-03-17 11:03:53.823974: I tensorflow/core/platform/cpu_feature_guard.cc:193] This TensorFlow binary is optimized with oneAPI Deep Neural Network Library (oneDNN) to use the following CPU instructions in performance-critical operations:  AVX2 FMA\n",
            "To enable them in other operations, rebuild TensorFlow with the appropriate compiler flags.\n"
          ]
        },
        {
          "data": {
            "text/plain": [
              "'2.11.0'"
            ]
          },
          "execution_count": 1,
          "metadata": {},
          "output_type": "execute_result"
        }
      ],
      "source": [
        "import tensorflow as tf\n",
        "\n",
        "tf.__version__"
      ]
    },
    {
      "cell_type": "markdown",
      "metadata": {
        "id": "FXfJnF4aw3hi"
      },
      "source": [
        "### Rank 0 tensor"
      ]
    },
    {
      "cell_type": "code",
      "execution_count": 3,
      "metadata": {
        "colab": {
          "base_uri": "https://localhost:8080/"
        },
        "id": "Rg2e7aucvz2O",
        "outputId": "06d4a3cc-d31f-47e8-f59e-0acba253de51"
      },
      "outputs": [
        {
          "name": "stdout",
          "output_type": "stream",
          "text": [
            "tf.Tensor(12, shape=(), dtype=int32)\n"
          ]
        },
        {
          "name": "stderr",
          "output_type": "stream",
          "text": [
            "2023-03-17 11:04:27.943182: I tensorflow/core/platform/cpu_feature_guard.cc:193] This TensorFlow binary is optimized with oneAPI Deep Neural Network Library (oneDNN) to use the following CPU instructions in performance-critical operations:  AVX2 FMA\n",
            "To enable them in other operations, rebuild TensorFlow with the appropriate compiler flags.\n"
          ]
        }
      ],
      "source": [
        "s = tf.constant(12)\n",
        "print(s)"
      ]
    },
    {
      "cell_type": "code",
      "execution_count": 4,
      "metadata": {
        "colab": {
          "base_uri": "https://localhost:8080/"
        },
        "id": "RyvnjL6KwMAR",
        "outputId": "4a021cdb-fcff-4f98-e16c-c6e3c9e1a41a"
      },
      "outputs": [
        {
          "data": {
            "text/plain": [
              "0"
            ]
          },
          "execution_count": 4,
          "metadata": {},
          "output_type": "execute_result"
        }
      ],
      "source": [
        "s.ndim"
      ]
    },
    {
      "cell_type": "markdown",
      "metadata": {
        "id": "WlV7MOLbw8f9"
      },
      "source": [
        "### Vectors"
      ]
    },
    {
      "cell_type": "code",
      "execution_count": 5,
      "metadata": {
        "colab": {
          "base_uri": "https://localhost:8080/"
        },
        "id": "OLvEK0l0w1I1",
        "outputId": "f625e8b5-833b-469e-848b-01c59ba49c3e"
      },
      "outputs": [
        {
          "name": "stdout",
          "output_type": "stream",
          "text": [
            "tf.Tensor([20 12], shape=(2,), dtype=int32)\n",
            "Dimension: 1\n"
          ]
        }
      ],
      "source": [
        "v = tf.constant([20,12])\n",
        "print(v)\n",
        "print(\"Dimension:\", v.ndim)"
      ]
    },
    {
      "cell_type": "markdown",
      "metadata": {
        "id": "CgXCUUZfxUSY"
      },
      "source": [
        "### Matrix"
      ]
    },
    {
      "cell_type": "code",
      "execution_count": 6,
      "metadata": {
        "colab": {
          "base_uri": "https://localhost:8080/"
        },
        "id": "gtITl1AbxFTf",
        "outputId": "8d33f175-04cf-4133-e66f-4a36369e07bd"
      },
      "outputs": [
        {
          "name": "stdout",
          "output_type": "stream",
          "text": [
            "tf.Tensor(\n",
            "[[ 4  5]\n",
            " [-2  6]], shape=(2, 2), dtype=int32)\n"
          ]
        }
      ],
      "source": [
        "m = tf.constant([[4,5],\n",
        "                [-2,6]])\n",
        "print(m)"
      ]
    },
    {
      "cell_type": "code",
      "execution_count": 7,
      "metadata": {
        "colab": {
          "base_uri": "https://localhost:8080/"
        },
        "id": "T8zrd8-YxguC",
        "outputId": "01cb2ee4-4084-44af-ee8b-bd42808e1b17"
      },
      "outputs": [
        {
          "name": "stdout",
          "output_type": "stream",
          "text": [
            "tf.Tensor(\n",
            "[[ 4.2  5.3]\n",
            " [-2.   6. ]], shape=(2, 2), dtype=float16)\n"
          ]
        }
      ],
      "source": [
        "m2 = tf.constant([[4.2,5.3],\n",
        "                [-2,6]], dtype=tf.float16)\n",
        "print(m2)"
      ]
    },
    {
      "cell_type": "code",
      "execution_count": 8,
      "metadata": {
        "colab": {
          "base_uri": "https://localhost:8080/"
        },
        "id": "LK8-iAxHxubs",
        "outputId": "a0917bd6-5a59-489c-cdf8-ea4259209cbb"
      },
      "outputs": [
        {
          "name": "stdout",
          "output_type": "stream",
          "text": [
            "2\n"
          ]
        }
      ],
      "source": [
        "print(m2.ndim)"
      ]
    },
    {
      "cell_type": "code",
      "execution_count": 9,
      "metadata": {
        "colab": {
          "base_uri": "https://localhost:8080/"
        },
        "id": "6waISTiPx3tC",
        "outputId": "73a72a74-b66f-48bd-a16a-01df42a933a7"
      },
      "outputs": [
        {
          "name": "stdout",
          "output_type": "stream",
          "text": [
            "<tf.Variable 'Variable:0' shape=(2,) dtype=int32, numpy=array([2, 3], dtype=int32)>\n"
          ]
        }
      ],
      "source": [
        "t1 = tf.constant([4, 3])\n",
        "t2 = tf.Variable([4, 3])\n",
        "\n",
        "#t1[0].assign(2) raises an error\n",
        "\n",
        "t2[0].assign(2)\n",
        "\n",
        "print(t2)"
      ]
    },
    {
      "cell_type": "code",
      "execution_count": null,
      "metadata": {
        "id": "cF-fS_Jpys_1"
      },
      "outputs": [],
      "source": []
    }
  ],
  "metadata": {
    "colab": {
      "provenance": []
    },
    "kernelspec": {
      "display_name": "Python 3",
      "name": "python3"
    },
    "language_info": {
      "codemirror_mode": {
        "name": "ipython",
        "version": 3
      },
      "file_extension": ".py",
      "mimetype": "text/x-python",
      "name": "python",
      "nbconvert_exporter": "python",
      "pygments_lexer": "ipython3",
      "version": "3.9.6"
    }
  },
  "nbformat": 4,
  "nbformat_minor": 0
}
