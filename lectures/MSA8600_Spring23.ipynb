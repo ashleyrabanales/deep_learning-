{
  "nbformat": 4,
  "nbformat_minor": 0,
  "metadata": {
    "colab": {
      "provenance": []
    },
    "kernelspec": {
      "name": "python3",
      "display_name": "Python 3"
    },
    "language_info": {
      "name": "python"
    }
  },
  "cells": [
    {
      "cell_type": "markdown",
      "source": [
        "# MSA 8600\n",
        "\n",
        "Please learn to work with `numpy` and `pandas`.\n",
        "\n",
        "- Scalar: a number.\n",
        "- Vector: a number with direction\n",
        "- Matrix: a 2-dimensional array of numbers\n",
        "- Tensor: an n-dimensional array of numbers (0-dim: scalar, 1-dim: vector, 2-dim: matrix)\n",
        "\n",
        "Note: We can not change constants. But we can change variables."
      ],
      "metadata": {
        "id": "_9r3McJrvg2V"
      }
    },
    {
      "cell_type": "code",
      "source": [
        "import tensorflow as tf\n",
        "\n",
        "tf.__version__"
      ],
      "metadata": {
        "colab": {
          "base_uri": "https://localhost:8080/",
          "height": 36
        },
        "id": "BqLXTu8AvmkH",
        "outputId": "26570788-d99c-47eb-9f9f-beecf62e0ce1"
      },
      "execution_count": null,
      "outputs": [
        {
          "output_type": "execute_result",
          "data": {
            "text/plain": [
              "'2.11.0'"
            ],
            "application/vnd.google.colaboratory.intrinsic+json": {
              "type": "string"
            }
          },
          "metadata": {},
          "execution_count": 1
        }
      ]
    },
    {
      "cell_type": "markdown",
      "source": [
        "### Rank 0 tensor"
      ],
      "metadata": {
        "id": "FXfJnF4aw3hi"
      }
    },
    {
      "cell_type": "code",
      "source": [
        "s = tf.constant(12)\n",
        "print(s)"
      ],
      "metadata": {
        "colab": {
          "base_uri": "https://localhost:8080/"
        },
        "id": "Rg2e7aucvz2O",
        "outputId": "06d4a3cc-d31f-47e8-f59e-0acba253de51"
      },
      "execution_count": null,
      "outputs": [
        {
          "output_type": "stream",
          "name": "stdout",
          "text": [
            "tf.Tensor(12, shape=(), dtype=int32)\n"
          ]
        }
      ]
    },
    {
      "cell_type": "code",
      "source": [
        "s.ndim"
      ],
      "metadata": {
        "colab": {
          "base_uri": "https://localhost:8080/"
        },
        "id": "RyvnjL6KwMAR",
        "outputId": "4a021cdb-fcff-4f98-e16c-c6e3c9e1a41a"
      },
      "execution_count": null,
      "outputs": [
        {
          "output_type": "execute_result",
          "data": {
            "text/plain": [
              "0"
            ]
          },
          "metadata": {},
          "execution_count": 4
        }
      ]
    },
    {
      "cell_type": "markdown",
      "source": [
        "### Vectors"
      ],
      "metadata": {
        "id": "WlV7MOLbw8f9"
      }
    },
    {
      "cell_type": "code",
      "source": [
        "v = tf.constant([20,12])\n",
        "print(v)\n",
        "print(\"Dimension:\", v.ndim)"
      ],
      "metadata": {
        "colab": {
          "base_uri": "https://localhost:8080/"
        },
        "id": "OLvEK0l0w1I1",
        "outputId": "f625e8b5-833b-469e-848b-01c59ba49c3e"
      },
      "execution_count": null,
      "outputs": [
        {
          "output_type": "stream",
          "name": "stdout",
          "text": [
            "tf.Tensor([20 12], shape=(2,), dtype=int32)\n",
            "Dimension: 1\n"
          ]
        }
      ]
    },
    {
      "cell_type": "markdown",
      "source": [
        "### Matrix"
      ],
      "metadata": {
        "id": "CgXCUUZfxUSY"
      }
    },
    {
      "cell_type": "code",
      "source": [
        "m = tf.constant([[4,5],\n",
        "                [-2,6]])\n",
        "print(m)"
      ],
      "metadata": {
        "colab": {
          "base_uri": "https://localhost:8080/"
        },
        "id": "gtITl1AbxFTf",
        "outputId": "8d33f175-04cf-4133-e66f-4a36369e07bd"
      },
      "execution_count": null,
      "outputs": [
        {
          "output_type": "stream",
          "name": "stdout",
          "text": [
            "tf.Tensor(\n",
            "[[ 4  5]\n",
            " [-2  6]], shape=(2, 2), dtype=int32)\n"
          ]
        }
      ]
    },
    {
      "cell_type": "code",
      "source": [
        "m2 = tf.constant([[4.2,5.3],\n",
        "                [-2,6]], dtype=tf.float16)\n",
        "print(m2)"
      ],
      "metadata": {
        "colab": {
          "base_uri": "https://localhost:8080/"
        },
        "id": "T8zrd8-YxguC",
        "outputId": "01cb2ee4-4084-44af-ee8b-bd42808e1b17"
      },
      "execution_count": null,
      "outputs": [
        {
          "output_type": "stream",
          "name": "stdout",
          "text": [
            "tf.Tensor(\n",
            "[[ 4.2  5.3]\n",
            " [-2.   6. ]], shape=(2, 2), dtype=float16)\n"
          ]
        }
      ]
    },
    {
      "cell_type": "code",
      "source": [
        "print(m2.ndim)"
      ],
      "metadata": {
        "colab": {
          "base_uri": "https://localhost:8080/"
        },
        "id": "LK8-iAxHxubs",
        "outputId": "a0917bd6-5a59-489c-cdf8-ea4259209cbb"
      },
      "execution_count": null,
      "outputs": [
        {
          "output_type": "stream",
          "name": "stdout",
          "text": [
            "2\n"
          ]
        }
      ]
    },
    {
      "cell_type": "code",
      "source": [
        "t1 = tf.constant([4, 3])\n",
        "t2 = tf.Variable([4, 3])\n",
        "\n",
        "#t1[0].assign(2) raises an error\n",
        "\n",
        "t2[0].assign(2)\n",
        "\n",
        "print(t2)"
      ],
      "metadata": {
        "colab": {
          "base_uri": "https://localhost:8080/"
        },
        "id": "6waISTiPx3tC",
        "outputId": "73a72a74-b66f-48bd-a16a-01df42a933a7"
      },
      "execution_count": null,
      "outputs": [
        {
          "output_type": "stream",
          "name": "stdout",
          "text": [
            "<tf.Variable 'Variable:0' shape=(2,) dtype=int32, numpy=array([2, 3], dtype=int32)>\n"
          ]
        }
      ]
    },
    {
      "cell_type": "code",
      "source": [],
      "metadata": {
        "id": "cF-fS_Jpys_1"
      },
      "execution_count": null,
      "outputs": []
    }
  ]
}