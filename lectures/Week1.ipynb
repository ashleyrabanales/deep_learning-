{
  "cells": [
    {
      "cell_type": "markdown",
      "metadata": {
        "id": "_9r3McJrvg2V"
      },
      "source": [
        "# MSA 8600\n",
        "\n",
        "Please learn to work with `numpy` and `pandas`.\n",
        "\n",
        "- Scalar: a number.\n",
        "- Vector: a number with direction\n",
        "- Matrix: a 2-dimensional array of numbers\n",
        "- Tensor: an n-dimensional array of numbers (0-dim: scalar, 1-dim: vector, 2-dim: matrix)\n",
        "\n",
        "Note: We can not change constants. But we can change variables."
      ]
    },
    {
      "cell_type": "code",
      "execution_count": 1,
      "metadata": {
        "colab": {
          "base_uri": "https://localhost:8080/",
          "height": 36
        },
        "id": "BqLXTu8AvmkH",
        "outputId": "26570788-d99c-47eb-9f9f-beecf62e0ce1"
      },
      "outputs": [
        {
          "name": "stderr",
          "output_type": "stream",
          "text": [
            "2023-03-17 11:03:53.823974: I tensorflow/core/platform/cpu_feature_guard.cc:193] This TensorFlow binary is optimized with oneAPI Deep Neural Network Library (oneDNN) to use the following CPU instructions in performance-critical operations:  AVX2 FMA\n",
            "To enable them in other operations, rebuild TensorFlow with the appropriate compiler flags.\n"
          ]
        },
        {
          "data": {
            "text/plain": [
              "'2.11.0'"
            ]
          },
          "execution_count": 1,
          "metadata": {},
          "output_type": "execute_result"
        }
      ],
      "source": [
        "import tensorflow as tf\n",
        "\n",
        "tf.__version__"
      ]
    },
    {
      "cell_type": "markdown",
      "metadata": {
        "id": "FXfJnF4aw3hi"
      },
      "source": [
        "### Rank 0 tensor"
      ]
    },
    {
      "cell_type": "code",
      "execution_count": 3,
      "metadata": {
        "colab": {
          "base_uri": "https://localhost:8080/"
        },
        "id": "Rg2e7aucvz2O",
        "outputId": "06d4a3cc-d31f-47e8-f59e-0acba253de51"
      },
      "outputs": [
        {
          "name": "stdout",
          "output_type": "stream",
          "text": [
            "tf.Tensor(12, shape=(), dtype=int32)\n"
          ]
        },
        {
          "name": "stderr",
          "output_type": "stream",
          "text": [
            "2023-03-17 11:04:27.943182: I tensorflow/core/platform/cpu_feature_guard.cc:193] This TensorFlow binary is optimized with oneAPI Deep Neural Network Library (oneDNN) to use the following CPU instructions in performance-critical operations:  AVX2 FMA\n",
            "To enable them in other operations, rebuild TensorFlow with the appropriate compiler flags.\n"
          ]
        }
      ],
      "source": [
        "s = tf.constant(12)\n",
        "print(s)"
      ]
    },
    {
      "cell_type": "code",
      "execution_count": 4,
      "metadata": {
        "colab": {
          "base_uri": "https://localhost:8080/"
        },
        "id": "RyvnjL6KwMAR",
        "outputId": "4a021cdb-fcff-4f98-e16c-c6e3c9e1a41a"
      },
      "outputs": [
        {
          "data": {
            "text/plain": [
              "0"
            ]
          },
          "execution_count": 4,
          "metadata": {},
          "output_type": "execute_result"
        }
      ],
      "source": [
        "s.ndim"
      ]
    },
    {
      "cell_type": "markdown",
      "metadata": {
        "id": "WlV7MOLbw8f9"
      },
      "source": [
        "### Vectors"
      ]
    },
    {
      "cell_type": "code",
      "execution_count": 5,
      "metadata": {
        "colab": {
          "base_uri": "https://localhost:8080/"
        },
        "id": "OLvEK0l0w1I1",
        "outputId": "f625e8b5-833b-469e-848b-01c59ba49c3e"
      },
      "outputs": [
        {
          "name": "stdout",
          "output_type": "stream",
          "text": [
            "tf.Tensor([20 12], shape=(2,), dtype=int32)\n",
            "Dimension: 1\n"
          ]
        }
      ],
      "source": [
        "v = tf.constant([20,12])\n",
        "print(v)\n",
        "print(\"Dimension:\", v.ndim)"
      ]
    },
    {
      "cell_type": "markdown",
      "metadata": {
        "id": "CgXCUUZfxUSY"
      },
      "source": [
        "### Matrix"
      ]
    },
    {
      "cell_type": "code",
      "execution_count": 6,
      "metadata": {
        "colab": {
          "base_uri": "https://localhost:8080/"
        },
        "id": "gtITl1AbxFTf",
        "outputId": "8d33f175-04cf-4133-e66f-4a36369e07bd"
      },
      "outputs": [
        {
          "name": "stdout",
          "output_type": "stream",
          "text": [
            "tf.Tensor(\n",
            "[[ 4  5]\n",
            " [-2  6]], shape=(2, 2), dtype=int32)\n"
          ]
        }
      ],
      "source": [
        "m = tf.constant([[4,5],\n",
        "                [-2,6]])\n",
        "print(m)"
      ]
    },
    {
      "cell_type": "code",
      "execution_count": 7,
      "metadata": {
        "colab": {
          "base_uri": "https://localhost:8080/"
        },
        "id": "T8zrd8-YxguC",
        "outputId": "01cb2ee4-4084-44af-ee8b-bd42808e1b17"
      },
      "outputs": [
        {
          "name": "stdout",
          "output_type": "stream",
          "text": [
            "tf.Tensor(\n",
            "[[ 4.2  5.3]\n",
            " [-2.   6. ]], shape=(2, 2), dtype=float16)\n"
          ]
        }
      ],
      "source": [
        "m2 = tf.constant([[4.2,5.3],\n",
        "                [-2,6]], dtype=tf.float16)\n",
        "print(m2)"
      ]
    },
    {
      "cell_type": "code",
      "execution_count": 8,
      "metadata": {
        "colab": {
          "base_uri": "https://localhost:8080/"
        },
        "id": "LK8-iAxHxubs",
        "outputId": "a0917bd6-5a59-489c-cdf8-ea4259209cbb"
      },
      "outputs": [
        {
          "name": "stdout",
          "output_type": "stream",
          "text": [
            "2\n"
          ]
        }
      ],
      "source": [
        "print(m2.ndim)"
      ]
    },
    {
      "cell_type": "code",
      "execution_count": 9,
      "metadata": {
        "colab": {
          "base_uri": "https://localhost:8080/"
        },
        "id": "6waISTiPx3tC",
        "outputId": "73a72a74-b66f-48bd-a16a-01df42a933a7"
      },
      "outputs": [
        {
          "name": "stdout",
          "output_type": "stream",
          "text": [
            "<tf.Variable 'Variable:0' shape=(2,) dtype=int32, numpy=array([2, 3], dtype=int32)>\n"
          ]
        }
      ],
      "source": [
        "t1 = tf.constant([4, 3])\n",
        "t2 = tf.Variable([4, 3])\n",
        "\n",
        "#t1[0].assign(2) raises an error\n",
        "\n",
        "t2[0].assign(2)\n",
        "\n",
        "print(t2)"
      ]
    },
    {
      "cell_type": "code",
      "execution_count": 1,
      "metadata": {
        "id": "cF-fS_Jpys_1"
      },
      "outputs": [],
      "source": [
        "import numpy as np\n",
        "def initialize_parameters(layer_dims):\n",
        "    parameters = {}\n",
        "    L = len(layer_dims) - 1 # number of layers in the network\n",
        "    for l in range(1, L + 1):\n",
        "        parameters['W' + str(l)] = np.random.randn(layer_dims[l], layer_dims[l-1]) * 0.01\n",
        "        parameters['b' + str(l)] = np.zeros((layer_dims[l], 1))\n",
        "    return parameters\n",
        "\n"
      ]
    },
    {
      "cell_type": "code",
      "execution_count": 6,
      "metadata": {},
      "outputs": [
        {
          "name": "stdout",
          "output_type": "stream",
          "text": [
            "[[ 0.00513891 -0.00641006]\n",
            " [-0.00389762  0.01762219]\n",
            " [ 0.00890082  0.01369906]\n",
            " [-0.01568453  0.01111635]]\n",
            "[[0.]\n",
            " [0.]\n",
            " [0.]\n",
            " [0.]]\n"
          ]
        }
      ],
      "source": [
        "parameters = initialize_parameters([2, 4, 4, 1]) #2 neurons, 4 layers, 4 neurons per layer, 1 input\n",
        "print(parameters[\"W1\"])\n",
        "print(parameters[\"b1\"])\n"
      ]
    },
    {
      "cell_type": "code",
      "execution_count": 7,
      "metadata": {},
      "outputs": [],
      "source": [
        "def cross_entropy_loss(y_pred, y_true): #y_true the actual label, y_pred the predicted label\n",
        "    batch_size = y_pred.shape[0] #batch size is the number of samples in the batch\n",
        "    eps = 1e-12  #epsilon for numerical stability (eps)\n",
        "    loss = -1 / batch_size * np.sum(y_true * np.log(y_pred)) #logloss equation\n",
        "    return loss"
      ]
    },
    {
      "cell_type": "code",
      "execution_count": 10,
      "metadata": {},
      "outputs": [
        {
          "name": "stdout",
          "output_type": "stream",
          "text": [
            "None\n"
          ]
        }
      ],
      "source": [
        "y_pred = np.array([[0.3, 0.7, 0.1],\n",
        "                  [0.6, 0.4, 0.9],\n",
        "                  [0.8, 0.2, 0.2]])\n",
        "\n",
        "y_true = np.array([1, 0, 1])\n",
        "\n",
        "loss = cross_entropy_loss(y_pred, y_true)\n",
        "print(loss)"
      ]
    },
    {
      "cell_type": "code",
      "execution_count": null,
      "metadata": {},
      "outputs": [],
      "source": [
        "import tensorflow as tf"
      ]
    },
    {
      "cell_type": "code",
      "execution_count": 12,
      "metadata": {},
      "outputs": [
        {
          "ename": "SyntaxError",
          "evalue": "invalid syntax (2627020378.py, line 1)",
          "output_type": "error",
          "traceback": [
            "\u001b[0;36m  Cell \u001b[0;32mIn[12], line 1\u001b[0;36m\u001b[0m\n\u001b[0;31m    $ brew install git\u001b[0m\n\u001b[0m    ^\u001b[0m\n\u001b[0;31mSyntaxError\u001b[0m\u001b[0;31m:\u001b[0m invalid syntax\n"
          ]
        }
      ],
      "source": [
        "$ brew install git"
      ]
    },
    {
      "cell_type": "code",
      "execution_count": null,
      "metadata": {},
      "outputs": [],
      "source": []
    }
  ],
  "metadata": {
    "colab": {
      "provenance": []
    },
    "kernelspec": {
      "display_name": "Python 3",
      "name": "python3"
    },
    "language_info": {
      "codemirror_mode": {
        "name": "ipython",
        "version": 3
      },
      "file_extension": ".py",
      "mimetype": "text/x-python",
      "name": "python",
      "nbconvert_exporter": "python",
      "pygments_lexer": "ipython3",
      "version": "3.7.9"
    }
  },
  "nbformat": 4,
  "nbformat_minor": 0
}
