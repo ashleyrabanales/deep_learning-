{
  "cells": [
    {
      "cell_type": "markdown",
      "metadata": {
        "id": "rVzvvKmZsXti"
      },
      "source": [
        "# MSA8600: Individual Assignment 2\n",
        "\n",
        "**Objective** \n",
        "This assignment aims to familiarize students with Convolutional Neural Networks (CNNs) with the `keras` library, and image processing using the `OpenCV` library. It has `25` points.\n",
        "\n",
        "**Instructions** \n",
        "Please complete the partial code provided and experiment with different CNN architectures and hyperparameters to achieve the desired results.\n",
        "\n",
        "**Submission** \n",
        "After completion, download the notebook from the `File/Download/Download .ipynp` menu, attach it to the assignment on iCollege, and submit it.\n",
        "\n",
        "## Problem Statement\n",
        "\n",
        "1. Use the OpenCV library to preprocess and visualize images.\n",
        "2. Create a CNN model to classify handwritten digits from the popular MNIST dataset. \n",
        "3. Train the model with the training set, and show its accuracy on the test set.\n",
        "4. Modify the architecture and hyper-parameter to achieve better accuracy.\n",
        "5. Report on the results of step 4 by writing a short report."
      ]
    },
    {
      "cell_type": "markdown",
      "metadata": {
        "id": "LpA7bDVktskj"
      },
      "source": [
        "### Step 1: data prepreation and visualization (4 points)"
      ]
    },
    {
      "cell_type": "code",
      "execution_count": 3,
      "metadata": {
        "colab": {
          "base_uri": "https://localhost:8080/",
          "height": 792
        },
        "id": "JcSS9002s9lg",
        "outputId": "43e7b102-6a56-4c12-dab4-b8aec0d2eddf"
      },
      "outputs": [
        {
          "name": "stdout",
          "output_type": "stream",
          "text": [
            "Downloading data from https://storage.googleapis.com/tensorflow/tf-keras-datasets/mnist.npz\n",
            "11490434/11490434 [==============================] - 5s 0us/step\n"
          ]
        },
        {
          "name": "stderr",
          "output_type": "stream",
          "text": [
            "/Library/Frameworks/Python.framework/Versions/3.10/lib/python3.10/site-packages/matplotlib/text.py:1279: FutureWarning: elementwise comparison failed; returning scalar instead, but in the future will perform elementwise comparison\n",
            "  if s != self._text:\n"
          ]
        },
        {
          "data": {
            "image/png": "[encoded data removed]",
            "text/plain": [
              "<Figure size 1000x1000 with 15 Axes>"
            ]
          },
          "metadata": {},
          "output_type": "display_data"
        }
      ],
      "source": [
        "import tensorflow as tf\n",
        "import numpy as np\n",
        "import cv2\n",
        "import matplotlib.pyplot as plt\n",
        "from keras.datasets import mnist\n",
        "from keras.utils import to_categorical\n",
        "from keras.models import Sequential\n",
        "from keras.layers import Conv2D\n",
        "from keras.layers import MaxPooling2D\n",
        "from keras.layers import Dense\n",
        "from keras.layers import Flatten\n",
        "from keras.preprocessing.image import ImageDataGenerator\n",
        "import cv2\n",
        "\n",
        "mnist = tf.keras.datasets.mnist \n",
        "(x_train, y_train), (x_test, y_test) = mnist.load_data() # Splits mnist dataset from keras.datasets into training and testing sets\n",
        "\n",
        "# TODO: Normalize the pixel values in the dataset\n",
        "# Hint: Divide the pixel values by 255.0\n",
        "datagen = ImageDataGenerator(rescale=1.0/255.0)\n",
        "x_train_normalized = datagen.flow(x_train.reshape((-1, 28, 28, 1)))\n",
        "x_test_normalized = datagen.flow(x_test.reshape((-1, 28, 28, 1)))\n",
        "\n",
        "# Convert class vectors to binary class matrices\n",
        "y_train = to_categorical(y_train, num_classes=10)\n",
        "y_test = to_categorical(y_test, num_classes=10)\n",
        "\n",
        "# Split the dataset into training and testing sets\n",
        "x_train, x_test = x_train / 255.0, x_test / 255.0\n",
        "\n",
        "#https://www.geeksforgeeks.org/how-to-normalize-center-and-standardize-image-pixels-in-keras/#\n",
        "\n",
        "# Visualize and preprocess images using OpenCV\n",
        "# Create a window to display the images\n",
        "def visualize_images(images, labels):\n",
        "    fig = plt.figure(figsize=(10, 10))\n",
        "\n",
        "    for i in range(15):\n",
        "        img = images[i]\n",
        "        label = labels[i]\n",
        "\n",
        "        plt.subplot(3, 5, i+1)\n",
        "        plt.imshow(img, cmap='gray')\n",
        "        plt.title(label)\n",
        "        plt.axis('off')\n",
        "\n",
        "    plt.show()\n",
        "\n",
        "visualize_images(x_train, y_train)\n",
        "\n",
        "#https://www.geeksforgeeks.org/python-grayscaling-of-images-using-opencv/\n"
      ]
    },
    {
      "cell_type": "markdown",
      "metadata": {
        "id": "fEF64-Rxt0JK"
      },
      "source": [
        "### Step 2: create a CNN model (6 points)"
      ]
    },
    {
      "cell_type": "code",
      "execution_count": 4,
      "metadata": {
        "id": "WsdCxI-dt2zv"
      },
      "outputs": [
        {
          "name": "stderr",
          "output_type": "stream",
          "text": [
            "2023-04-10 20:00:13.609221: I tensorflow/core/platform/cpu_feature_guard.cc:193] This TensorFlow binary is optimized with oneAPI Deep Neural Network Library (oneDNN) to use the following CPU instructions in performance-critical operations:  AVX2 FMA\n",
            "To enable them in other operations, rebuild TensorFlow with the appropriate compiler flags.\n"
          ]
        }
      ],
      "source": [
        "def create_cnn_model():\n",
        "    model = tf.keras.Sequential([\n",
        "        # TODO: Add a 2D convolutional layer\n",
        "        # Hint: Use a 3x3 kernel and the 'relu' activation function\n",
        "        Conv2D(64, (3, 3), padding=\"same\", activation=\"relu\"),\n",
        "        MaxPooling2D(pool_size=(2, 2)),\n",
        "        # TODO: Add a max pooling layer\n",
        "        # Hint: Use a 2x2 pool size\n",
        "        MaxPooling2D(pool_size=(2, 2)),\n",
        "        # TODO: Add a Flatten layer\n",
        "        Flatten(),\n",
        "        # TODO: Add a dense layer with 128 units and the 'relu' activation function\n",
        "        Dense(128, activation=\"relu\"),\n",
        "        # TODO: Add the output layer with 10 units and the 'softmax' activation function\n",
        "        Dense(10, activation=\"softmax\")\n",
        "    ])\n",
        "    return model\n",
        "\n",
        "\n",
        "model = create_cnn_model()\n"
      ]
    },
    {
      "cell_type": "markdown",
      "metadata": {
        "id": "oblavkvbuFMj"
      },
      "source": [
        "### Step 3: train and evaluate the model (5 points)"
      ]
    },
    {
      "cell_type": "code",
      "execution_count": 5,
      "metadata": {
        "colab": {
          "base_uri": "https://localhost:8080/"
        },
        "id": "Qo8Lk8o5uGyR",
        "outputId": "2536d6f6-8c57-40d9-9a18-16936ad73a0e"
      },
      "outputs": [
        {
          "name": "stdout",
          "output_type": "stream",
          "text": [
            "Epoch 1/4\n",
            "6750/6750 [==============================] - 74s 11ms/step - loss: 0.1402 - accuracy: 0.9566 - val_loss: 0.0576 - val_accuracy: 0.9842\n",
            "Epoch 2/4\n",
            "6750/6750 [==============================] - 50s 7ms/step - loss: 0.0545 - accuracy: 0.9830 - val_loss: 0.0422 - val_accuracy: 0.9887\n",
            "Epoch 3/4\n",
            "6750/6750 [==============================] - 57s 8ms/step - loss: 0.0360 - accuracy: 0.9891 - val_loss: 0.0427 - val_accuracy: 0.9877\n",
            "Epoch 4/4\n",
            "6750/6750 [==============================] - 44s 7ms/step - loss: 0.0271 - accuracy: 0.9909 - val_loss: 0.0474 - val_accuracy: 0.9883\n",
            "313/313 [==============================] - 2s 4ms/step - loss: 0.0385 - accuracy: 0.9879\n",
            "Test loss: 0.03849831968545914\n",
            "Test accuracy: 0.9879000186920166\n"
          ]
        }
      ],
      "source": [
        "# TODO: Compile the model\n",
        "# Hint: Use the 'adam' optimizer, 'sparse_categorical_crossentropy' loss function, and 'accuracy' metric\n",
        "model.compile(loss='categorical_crossentropy', optimizer='adam', metrics=['accuracy'])\n",
        "\n",
        "# TODO: Train the model on the training set\n",
        "# Hint: Use 4 or 5 epochs and a batch size of 4, 8, or 16\n",
        "batch_size = 8\n",
        "epochs = 4\n",
        "model.fit(x_train.reshape((-1, 28, 28, 1)), y_train, batch_size=batch_size, epochs=epochs, validation_split=0.1)\n",
        "\n",
        "    # {1, 2, 4, 8, 16} - slow \n",
        "    # { [32, 64],[ 128, 256] } - Good starters\n",
        "    # [32, 64] - CPU\n",
        "    # [128, 256] - GPU for more boost\n",
        "\n",
        "# TODO: Evaluate the model on the test set and print the results\n",
        "results = model.evaluate(x_test.reshape((-1, 28, 28, 1)), y_test)\n",
        "print(\"Test loss:\", results[0])\n",
        "print(\"Test accuracy:\", results[1])\n",
        "\n",
        "#https://keras.io/api/metrics/"
      ]
    },
    {
      "cell_type": "markdown",
      "metadata": {
        "id": "paUObtdyurLE"
      },
      "source": [
        "### Step 4: experiment with different hyperparameters or CNN architectures (5 points)\n",
        "\n",
        "Try different hyperparameters to improve the performance of the model.\n",
        "\n",
        "> NOTE: Hyperparameters control the learning process of the CNN model. \n",
        "\n",
        "In this assignment, you can explore hyperparameters such as:\n",
        "- **Kernel size in the convolutional layer:** The filter size that is applied to the input data. Common choices are `3x3`, `5x5`, and `7x7`.\n",
        "\n",
        "- **Number of filters in the convolutional layer**: The number of filters applied to the input data in the convolutional layer. This determines the number of feature maps generated in the layer.\n",
        "\n",
        "- **Pool size in the max pooling layer:** The size of the window used for max pooling, typically 2x2 or 3x3.\n",
        "\n",
        "- **Number of units in the dense layer:** The number of neurons in the dense (fully connected) layer. Common choices are 64, 128, 256, and 512.\n",
        "\n",
        "- **Activation functions:** The type of activation functions used in the layers, such as ReLU, Leaky ReLU, or sigmoid.\n",
        "\n",
        "\n",
        "- **Learning rate:** The step size used by the optimizer during weight updates. A smaller learning rate makes the model learn more slowly, while a larger learning rate might cause the model to overshoot the optimal weights.\n",
        "\n",
        "- **Batch size:** The number of training samples used for each weight update during training. Smaller batch sizes can result in more noise during weight updates, while larger batch sizes can provide more stable updates but may require more memory.\n",
        "\n",
        "- **Number of training epochs:** The number of times the model iterates over the entire training dataset. Too few epochs may result in underfitting, while too many epochs can lead to overfitting."
      ]
    },
    {
      "cell_type": "code",
      "execution_count": 15,
      "metadata": {
        "colab": {
          "base_uri": "https://localhost:8080/"
        },
        "id": "Uxx9nWl_ux1T",
        "outputId": "d36df074-937f-4a6d-aa1a-8ed6953698f0"
      },
      "outputs": [
        {
          "name": "stdout",
          "output_type": "stream",
          "text": [
            "Epoch 1/4\n",
            "3375/3375 [==============================] - 94s 28ms/step - loss: 0.1271 - accuracy: 0.9610 - val_loss: 0.0611 - val_accuracy: 0.9807\n",
            "Epoch 2/4\n",
            "3375/3375 [==============================] - 91s 27ms/step - loss: 0.0479 - accuracy: 0.9853 - val_loss: 0.0470 - val_accuracy: 0.9862\n",
            "Epoch 3/4\n",
            "3375/3375 [==============================] - 88s 26ms/step - loss: 0.0312 - accuracy: 0.9901 - val_loss: 0.0403 - val_accuracy: 0.9893\n",
            "Epoch 4/4\n",
            "3375/3375 [==============================] - 88s 26ms/step - loss: 0.0240 - accuracy: 0.9924 - val_loss: 0.0347 - val_accuracy: 0.9905\n",
            "313/313 [==============================] - 4s 11ms/step - loss: 0.0325 - accuracy: 0.9890\n",
            "Test loss: 0.03247974440455437\n",
            "Test accuracy: 0.9890000224113464\n"
          ]
        }
      ],
      "source": [
        "#Kernel size in the convolutional layer: 5x5\n",
        "def create_cnn_model():\n",
        "    model = tf.keras.Sequential([\n",
        "        # TODO: Add a 2D convolutional layer\n",
        "        # Hint: Use a 5x5 kernel and the 'relu' activation function\n",
        "        Conv2D(64, (5, 5), padding=\"same\", activation=\"relu\"),\n",
        "        MaxPooling2D(pool_size=(2, 2)),\n",
        "        # TODO: Add a max pooling layer\n",
        "        # Hint: Use a 2x2 pool size\n",
        "        MaxPooling2D(pool_size=(2, 2)),\n",
        "        # TODO: Add a Flatten layer\n",
        "        Flatten(),\n",
        "        # TODO: Add a dense layer with 128 units and the 'relu' activation function\n",
        "        Dense(128, activation=\"relu\"),\n",
        "        # TODO: Add the output layer with 10 units and the 'softmax' activation function\n",
        "        Dense(10, activation=\"softmax\")\n",
        "    ])\n",
        "    return model\n",
        "\n",
        "\n",
        "model = create_cnn_model()\n",
        "\n",
        "# TODO: Compile the model\n",
        "# Hint: Use the 'adam' optimizer, 'sparse_categorical_crossentropy' loss function, and 'accuracy' metric\n",
        "model.compile(loss='categorical_crossentropy', optimizer='adam', metrics=['accuracy'])\n",
        "\n",
        "# TODO: Train the model on the training set\n",
        "# Hint: Use 4 or 5 epochs and a batch size of 4, 8, or 16\n",
        "batch_size = 16\n",
        "epochs = 4\n",
        "model.fit(x_train.reshape((-1, 28, 28, 1)), y_train, batch_size=batch_size, epochs=epochs, validation_split=0.1)\n",
        "\n",
        "    # {1, 2, 4, 8, 16} - slow \n",
        "    # { [32, 64],[ 128, 256] } - Good starters\n",
        "    # [32, 64] - CPU\n",
        "    # [128, 256] - GPU for more boost\n",
        "\n",
        "# TODO: Evaluate the model on the test set and print the results\n",
        "results = model.evaluate(x_test.reshape((-1, 28, 28, 1)), y_test)\n",
        "print(\"Test loss:\", results[0])\n",
        "print(\"Test accuracy:\", results[1])\n",
        "\n",
        "#https://iamaaditya.github.io/2016/03/one-by-one-convolution/"
      ]
    },
    {
      "cell_type": "code",
      "execution_count": 17,
      "metadata": {
        "colab": {
          "base_uri": "https://localhost:8080/"
        },
        "id": "XHzhTp3mgzXZ",
        "outputId": "e057c050-03d5-4c19-fcdd-db966846840c"
      },
      "outputs": [
        {
          "name": "stdout",
          "output_type": "stream",
          "text": [
            "Epoch 1/4\n",
            "3375/3375 [==============================] - 249s 73ms/step - loss: 0.1077 - accuracy: 0.9671 - val_loss: 0.0561 - val_accuracy: 0.9843\n",
            "Epoch 2/4\n",
            "3375/3375 [==============================] - 233s 69ms/step - loss: 0.0417 - accuracy: 0.9870 - val_loss: 0.0407 - val_accuracy: 0.9887\n",
            "Epoch 3/4\n",
            "3375/3375 [==============================] - 307s 91ms/step - loss: 0.0285 - accuracy: 0.9910 - val_loss: 0.0300 - val_accuracy: 0.9915\n",
            "Epoch 4/4\n",
            "3375/3375 [==============================] - 321s 95ms/step - loss: 0.0195 - accuracy: 0.9936 - val_loss: 0.0360 - val_accuracy: 0.9895\n",
            "313/313 [==============================] - 12s 38ms/step - loss: 0.0274 - accuracy: 0.9911\n",
            "Test loss: 0.02743465267121792\n",
            "Test accuracy: 0.991100013256073\n"
          ]
        }
      ],
      "source": [
        "#Kernel size in the convolutional layer: 5x5\n",
        "#Number of filters in the convolutional layer: inc to 512\n",
        "#Pool size in the max pooling layer: 2x2 \n",
        "\n",
        "def create_cnn_model():\n",
        "    model = tf.keras.Sequential([\n",
        "        # TODO: Add a 2D convolutional layer\n",
        "        # Hint: Use a 5x5 kernel and the 'relu' activation function\n",
        "        Conv2D(512, (5, 5), padding=\"same\", activation=\"relu\"),\n",
        "        MaxPooling2D(pool_size=(2, 2)),\n",
        "        # TODO: Add a max pooling layer\n",
        "        # Hint: Use a 2x2 pool size\n",
        "        MaxPooling2D(pool_size=(2, 2)),\n",
        "        # TODO: Add a Flatten layer\n",
        "        Flatten(),\n",
        "        # TODO: Add a dense layer with 128 units and the 'relu' activation function\n",
        "        Dense(128, activation=\"relu\"),\n",
        "        # TODO: Add the output layer with 10 units and the 'softmax' activation function\n",
        "        Dense(10, activation=\"softmax\")\n",
        "    ])\n",
        "    return model\n",
        "\n",
        "\n",
        "model = create_cnn_model()\n",
        "\n",
        "# TODO: Compile the model\n",
        "# Hint: Use the 'adam' optimizer, 'sparse_categorical_crossentropy' loss function, and 'accuracy' metric\n",
        "model.compile(loss='categorical_crossentropy', optimizer='adam', metrics=['accuracy'])\n",
        "\n",
        "# TODO: Train the model on the training set\n",
        "# Hint: Use 4 or 5 epochs and a batch size of 4, 8, or 16\n",
        "batch_size = 16\n",
        "epochs = 4\n",
        "model.fit(x_train.reshape((-1, 28, 28, 1)), y_train, batch_size=batch_size, epochs=epochs, validation_split=0.1)\n",
        "\n",
        "    # {1, 2, 4, 8, 16} - slow \n",
        "    # { [32, 64],[ 128, 256] } - Good starters\n",
        "    # [32, 64] - CPU\n",
        "    # [128, 256] - GPU for more boost\n",
        "\n",
        "# TODO: Evaluate the model on the test set and print the results\n",
        "results = model.evaluate(x_test.reshape((-1, 28, 28, 1)), y_test)\n",
        "print(\"Test loss:\", results[0])\n",
        "print(\"Test accuracy:\", results[1])\n",
        "\n",
        "#512 inc time to wait / same accuracy from previous\n"
      ]
    },
    {
      "attachments": {},
      "cell_type": "markdown",
      "metadata": {},
      "source": [
        "#Kernel size in the convolutional layer: 5x5\n",
        "#Number of filters in the convolutional layer: inc to 512\n",
        "#Pool size in the max pooling layer: 2x2 \n",
        "\n",
        "This is one took the most out of all the CNN models due to increase of the CV layer to 512 but had a less loss."
      ]
    },
    {
      "cell_type": "code",
      "execution_count": 6,
      "metadata": {
        "id": "_GFqAFc6hw0Q"
      },
      "outputs": [
        {
          "name": "stdout",
          "output_type": "stream",
          "text": [
            "Epoch 1/4\n",
            "3375/3375 [==============================] - 193s 57ms/step - loss: 0.1110 - accuracy: 0.9661 - val_loss: 0.0471 - val_accuracy: 0.9862\n",
            "Epoch 2/4\n",
            "3375/3375 [==============================] - 185s 55ms/step - loss: 0.0435 - accuracy: 0.9861 - val_loss: 0.0382 - val_accuracy: 0.9895\n",
            "Epoch 3/4\n",
            "3375/3375 [==============================] - 179s 53ms/step - loss: 0.0296 - accuracy: 0.9904 - val_loss: 0.0494 - val_accuracy: 0.9865\n",
            "Epoch 4/4\n",
            "3375/3375 [==============================] - 186s 55ms/step - loss: 0.0225 - accuracy: 0.9926 - val_loss: 0.0538 - val_accuracy: 0.9867\n",
            "313/313 [==============================] - 9s 29ms/step - loss: 0.0450 - accuracy: 0.9862\n",
            "Test loss: 0.04504884406924248\n",
            "Test accuracy: 0.9861999750137329\n"
          ]
        }
      ],
      "source": [
        "#Kernel size in the convolutional layer: 5x5\n",
        "#Number of filters in the convolutional layer: inc to 512\n",
        "#Pool size in the max pooling layer: 2x2 \n",
        "#Number of units in the dense layer: dec 64\n",
        "\n",
        "\n",
        "def create_cnn_model():\n",
        "    model = tf.keras.Sequential([\n",
        "        # TODO: Add a 2D convolutional layer\n",
        "        # Hint: Use a 5x5 kernel and the 'relu' activation function\n",
        "        Conv2D(512, (5, 5), padding=\"same\", activation=\"relu\"),\n",
        "        MaxPooling2D(pool_size=(2, 2)),\n",
        "        # TODO: Add a max pooling layer\n",
        "        # Hint: Use a 2x2 pool size\n",
        "        MaxPooling2D(pool_size=(2, 2)),\n",
        "        # TODO: Add a Flatten layer\n",
        "        Flatten(),\n",
        "        # TODO: Add a dense layer with 128 units and the 'relu' activation function\n",
        "        Dense(64, activation=\"relu\"),\n",
        "        # TODO: Add the output layer with 10 units and the 'softmax' activation function\n",
        "        Dense(10, activation=\"softmax\")\n",
        "    ])\n",
        "    return model\n",
        "\n",
        "\n",
        "model = create_cnn_model()\n",
        "\n",
        "# TODO: Compile the model\n",
        "# Hint: Use the 'adam' optimizer, 'sparse_categorical_crossentropy' loss function, and 'accuracy' metric\n",
        "model.compile(loss='categorical_crossentropy', optimizer='adam', metrics=['accuracy'])\n",
        "\n",
        "# TODO: Train the model on the training set\n",
        "# Hint: Use 4 or 5 epochs and a batch size of 4, 8, or 16\n",
        "batch_size = 16\n",
        "epochs = 4\n",
        "model.fit(x_train.reshape((-1, 28, 28, 1)), y_train, batch_size=batch_size, epochs=epochs, validation_split=0.1)\n",
        "\n",
        "    # {1, 2, 4, 8, 16} - slow \n",
        "    # { [32, 64],[ 128, 256] } - Good starters\n",
        "    # [32, 64] - CPU\n",
        "    # [128, 256] - GPU for more boost\n",
        "\n",
        "# TODO: Evaluate the model on the test set and print the results\n",
        "results = model.evaluate(x_test.reshape((-1, 28, 28, 1)), y_test)\n",
        "print(\"Test loss:\", results[0])\n",
        "print(\"Test accuracy:\", results[1])\n",
        "\n",
        "#results seemed to be lowered"
      ]
    },
    {
      "attachments": {},
      "cell_type": "markdown",
      "metadata": {},
      "source": [
        "#Kernel size in the convolutional layer: 5x5\n",
        "#Number of filters in the convolutional layer: inc to 512\n",
        "#Pool size in the max pooling layer: 2x2 \n",
        "#Number of units in the dense layer: dec 64\n",
        "\n",
        "results seemed to be lowered with a more loss of 0.045"
      ]
    },
    {
      "cell_type": "code",
      "execution_count": 13,
      "metadata": {
        "id": "bfFO-XK1jDnZ"
      },
      "outputs": [
        {
          "name": "stdout",
          "output_type": "stream",
          "text": [
            "Epoch 1/4\n",
            "3375/3375 [==============================] - 243s 71ms/step - loss: 2.3099 - accuracy: 0.1069 - val_loss: 2.3036 - val_accuracy: 0.1113\n",
            "Epoch 2/4\n",
            "3375/3375 [==============================] - 259s 77ms/step - loss: 2.3049 - accuracy: 0.1060 - val_loss: 2.3081 - val_accuracy: 0.1050\n",
            "Epoch 3/4\n",
            "3375/3375 [==============================] - 235s 70ms/step - loss: 2.3051 - accuracy: 0.1068 - val_loss: 2.3090 - val_accuracy: 0.1050\n",
            "Epoch 4/4\n",
            "3375/3375 [==============================] - 293s 87ms/step - loss: 2.3052 - accuracy: 0.1035 - val_loss: 2.3056 - val_accuracy: 0.1050\n",
            "313/313 [==============================] - 10s 31ms/step - loss: 2.3036 - accuracy: 0.1135\n",
            "Test loss: 2.303586959838867\n",
            "Test accuracy: 0.11349999904632568\n"
          ]
        }
      ],
      "source": [
        "#Kernel size in the convolutional layer: 5x5\n",
        "#Number of filters in the convolutional layer: inc to 512\n",
        "#Pool size in the max pooling layer: 2x2 \n",
        "#Number of units in the dense layer: dec 64\n",
        "#Activation functions: sigmoid\n",
        "\n",
        "\n",
        "\n",
        "def create_cnn_model():\n",
        "    model = tf.keras.Sequential([\n",
        "        Conv2D(512, (5, 5), padding=\"same\", activation=\"sigmoid\"),\n",
        "        MaxPooling2D(pool_size=(2, 2)),\n",
        "        MaxPooling2D(pool_size=(2, 2)),\n",
        "        Flatten(),\n",
        "        Dense(64, activation=\"sigmoid\"),\n",
        "        Dense(10, activation=\"softmax\")\n",
        "    ])\n",
        "    return model\n",
        "\n",
        "\n",
        "model = create_cnn_model()\n",
        "\n",
        "model.compile(loss='categorical_crossentropy', optimizer='adam', metrics=['accuracy'])\n",
        "\n",
        "\n",
        "batch_size = 16\n",
        "epochs = 4\n",
        "model.fit(x_train.reshape((-1, 28, 28, 1)), y_train, batch_size=batch_size, epochs=epochs, validation_split=0.1)\n",
        "\n",
        "    # {1, 2, 4, 8, 16} - slow \n",
        "    # { [32, 64],[ 128, 256] } - Good starters\n",
        "    # [32, 64] - CPU\n",
        "    # [128, 256] - GPU for more boost\n",
        "\n",
        "results = model.evaluate(x_test.reshape((-1, 28, 28, 1)), y_test)\n",
        "print(\"Test loss:\", results[0])\n",
        "print(\"Test accuracy:\", results[1])"
      ]
    },
    {
      "attachments": {},
      "cell_type": "markdown",
      "metadata": {},
      "source": [
        "#Kernel size in the convolutional layer: 5x5\n",
        "#Number of filters in the convolutional layer: inc to 512\n",
        "#Pool size in the max pooling layer: 2x2 \n",
        "#Number of units in the dense layer: dec 64\n",
        "#Activation functions: sigmoid\n",
        "\n",
        "The results were severly lowered with a test loss of 2.3 and an accuracy of 0.11 which is significantly lower than using relu activation function."
      ]
    },
    {
      "cell_type": "code",
      "execution_count": 14,
      "metadata": {
        "id": "Gsynl-D0j6dX"
      },
      "outputs": [
        {
          "name": "stdout",
          "output_type": "stream",
          "text": [
            "Epoch 1/4\n",
            "3375/3375 [==============================] - 45s 13ms/step - loss: 0.1456 - accuracy: 0.9555 - val_loss: 0.0562 - val_accuracy: 0.9847\n",
            "Epoch 2/4\n",
            "3375/3375 [==============================] - 39s 11ms/step - loss: 0.0534 - accuracy: 0.9834 - val_loss: 0.0495 - val_accuracy: 0.9852\n",
            "Epoch 3/4\n",
            "3375/3375 [==============================] - 39s 12ms/step - loss: 0.0374 - accuracy: 0.9882 - val_loss: 0.0413 - val_accuracy: 0.9872\n",
            "Epoch 4/4\n",
            "3375/3375 [==============================] - 41s 12ms/step - loss: 0.0270 - accuracy: 0.9917 - val_loss: 0.0461 - val_accuracy: 0.9880\n",
            "313/313 [==============================] - 3s 8ms/step - loss: 0.0462 - accuracy: 0.9851\n",
            "Test loss: 0.046164512634277344\n",
            "Test accuracy: 0.9850999712944031\n"
          ]
        }
      ],
      "source": [
        "#Kernel size in the convolutional layer: 5x5\n",
        "#Number of filters in the convolutional layer: change back to 64\n",
        "#Pool size in the max pooling layer: 2x2 \n",
        "#Number of units in the dense layer: dec 64\n",
        "#Activation functions: relu, change back to the original\n",
        "#Learning rate: same\n",
        "\n",
        "def create_cnn_model():\n",
        "    model = tf.keras.Sequential([\n",
        "        Conv2D(64, (5, 5), padding=\"same\", activation=\"relu\"),\n",
        "        MaxPooling2D(pool_size=(2, 2)),\n",
        "        MaxPooling2D(pool_size=(2, 2)),\n",
        "        Flatten(),\n",
        "        Dense(64, activation=\"relu\"),\n",
        "        Dense(10, activation=\"softmax\")\n",
        "    ])\n",
        "    return model\n",
        "\n",
        "\n",
        "model = create_cnn_model()\n",
        "\n",
        "model.compile(loss='categorical_crossentropy', optimizer='adam', metrics=['accuracy'])\n",
        "\n",
        "\n",
        "batch_size = 16\n",
        "epochs = 4\n",
        "model.fit(x_train.reshape((-1, 28, 28, 1)), y_train, batch_size=batch_size, epochs=epochs, validation_split=0.1)\n",
        "\n",
        "    # {1, 2, 4, 8, 16} - slow \n",
        "    # { [32, 64],[ 128, 256] } - Good starters\n",
        "    # [32, 64] - CPU\n",
        "    # [128, 256] - GPU for more boost\n",
        "\n",
        "results = model.evaluate(x_test.reshape((-1, 28, 28, 1)), y_test)\n",
        "print(\"Test loss:\", results[0])\n",
        "print(\"Test accuracy:\", results[1])"
      ]
    },
    {
      "attachments": {},
      "cell_type": "markdown",
      "metadata": {},
      "source": [
        "#Kernel size in the convolutional layer: 5x5\n",
        "#Number of filters in the convolutional layer: change back to 64\n",
        "#Pool size in the max pooling layer: 2x2 \n",
        "#Number of units in the dense layer: dec 64\n",
        "#Activation functions: relu, change back to the original\n",
        "#Learning rate: same\n",
        "\n",
        "I changed the activation function back to relu since sigmoid takes longers to process, i left the learning rate the same because I believe it runs as a steady process."
      ]
    },
    {
      "cell_type": "code",
      "execution_count": 15,
      "metadata": {
        "id": "CepuZZ3ekLfD"
      },
      "outputs": [
        {
          "name": "stdout",
          "output_type": "stream",
          "text": [
            "Epoch 1/4\n",
            "6750/6750 [==============================] - 53s 8ms/step - loss: 0.1271 - accuracy: 0.9610 - val_loss: 0.0575 - val_accuracy: 0.9832\n",
            "Epoch 2/4\n",
            "6750/6750 [==============================] - 51s 8ms/step - loss: 0.0493 - accuracy: 0.9849 - val_loss: 0.0404 - val_accuracy: 0.9880\n",
            "Epoch 3/4\n",
            "6750/6750 [==============================] - 51s 7ms/step - loss: 0.0354 - accuracy: 0.9886 - val_loss: 0.0376 - val_accuracy: 0.9905\n",
            "Epoch 4/4\n",
            "6750/6750 [==============================] - 51s 7ms/step - loss: 0.0261 - accuracy: 0.9912 - val_loss: 0.0337 - val_accuracy: 0.9918\n",
            "313/313 [==============================] - 2s 7ms/step - loss: 0.0335 - accuracy: 0.9892\n",
            "Test loss: 0.033542387187480927\n",
            "Test accuracy: 0.9891999959945679\n"
          ]
        }
      ],
      "source": [
        "#Kernel size in the convolutional layer: 5x5\n",
        "#Number of filters in the convolutional layer: 64\n",
        "#Pool size in the max pooling layer: 2x2 \n",
        "#Number of units in the dense layer: dec 64\n",
        "#Activation functions: relu\n",
        "#Learning rate: same\n",
        "#Batch size: 8 \n",
        "\n",
        "\n",
        "\n",
        "def create_cnn_model():\n",
        "    model = tf.keras.Sequential([\n",
        "        Conv2D(64, (5, 5), padding=\"same\", activation=\"relu\"),\n",
        "        MaxPooling2D(pool_size=(2, 2)),\n",
        "        MaxPooling2D(pool_size=(2, 2)),\n",
        "        Flatten(),\n",
        "        Dense(64, activation=\"relu\"),\n",
        "        Dense(10, activation=\"softmax\")\n",
        "    ])\n",
        "    return model\n",
        "\n",
        "\n",
        "model = create_cnn_model()\n",
        "\n",
        "model.compile(loss='categorical_crossentropy', optimizer='adam', metrics=['accuracy'])\n",
        "\n",
        "\n",
        "batch_size = 8\n",
        "epochs = 4\n",
        "model.fit(x_train.reshape((-1, 28, 28, 1)), y_train, batch_size=batch_size, epochs=epochs, validation_split=0.1)\n",
        "\n",
        "    # {1, 2, 4, 8, 16} - slow \n",
        "    # { [32, 64],[ 128, 256] } - Good starters\n",
        "    # [32, 64] - CPU\n",
        "    # [128, 256] - GPU for more boost\n",
        "\n",
        "results = model.evaluate(x_test.reshape((-1, 28, 28, 1)), y_test)\n",
        "print(\"Test loss:\", results[0])\n",
        "print(\"Test accuracy:\", results[1])"
      ]
    },
    {
      "attachments": {},
      "cell_type": "markdown",
      "metadata": {},
      "source": [
        "#Kernel size in the convolutional layer: 5x5\n",
        "#Number of filters in the convolutional layer: 64\n",
        "#Pool size in the max pooling layer: 2x2 \n",
        "#Number of units in the dense layer: dec 64\n",
        "#Activation functions: relu\n",
        "#Learning rate: same\n",
        "#Batch size: 8 \n",
        "\n",
        "Changing the batch size decrease time from the orginal which means batch size will be increased for lower time and accruacy and loss is similar."
      ]
    },
    {
      "cell_type": "code",
      "execution_count": 16,
      "metadata": {
        "id": "Q-WUNvlckvoS"
      },
      "outputs": [
        {
          "name": "stdout",
          "output_type": "stream",
          "text": [
            "Epoch 1/5\n",
            "6750/6750 [==============================] - 53s 8ms/step - loss: 0.1356 - accuracy: 0.9578 - val_loss: 0.0647 - val_accuracy: 0.9803\n",
            "Epoch 2/5\n",
            "6750/6750 [==============================] - 51s 8ms/step - loss: 0.0503 - accuracy: 0.9839 - val_loss: 0.0559 - val_accuracy: 0.9838\n",
            "Epoch 3/5\n",
            "6750/6750 [==============================] - 48s 7ms/step - loss: 0.0346 - accuracy: 0.9894 - val_loss: 0.0447 - val_accuracy: 0.9867\n",
            "Epoch 4/5\n",
            "6750/6750 [==============================] - 193s 29ms/step - loss: 0.0255 - accuracy: 0.9917 - val_loss: 0.0427 - val_accuracy: 0.9868\n",
            "Epoch 5/5\n",
            "6750/6750 [==============================] - 50s 7ms/step - loss: 0.0193 - accuracy: 0.9937 - val_loss: 0.0479 - val_accuracy: 0.9887\n",
            "313/313 [==============================] - 3s 9ms/step - loss: 0.0448 - accuracy: 0.9879\n",
            "Test loss: 0.04475928843021393\n",
            "Test accuracy: 0.9879000186920166\n"
          ]
        }
      ],
      "source": [
        "#Kernel size in the convolutional layer: 5x5\n",
        "#Number of filters in the convolutional layer: 64\n",
        "#Pool size in the max pooling layer: 2x2 \n",
        "#Number of units in the dense layer: dec 64\n",
        "#Activation functions: relu\n",
        "#Learning rate: same\n",
        "#Batch size: 8 \n",
        "#Number of training epochs: 5\n",
        "\n",
        "def create_cnn_model():\n",
        "    model = tf.keras.Sequential([\n",
        "        Conv2D(64, (5, 5), padding=\"same\", activation=\"relu\"),\n",
        "        MaxPooling2D(pool_size=(2, 2)),\n",
        "        MaxPooling2D(pool_size=(2, 2)),\n",
        "        Flatten(),\n",
        "        Dense(64, activation=\"relu\"),\n",
        "        Dense(10, activation=\"softmax\")\n",
        "    ])\n",
        "    return model\n",
        "\n",
        "\n",
        "model = create_cnn_model()\n",
        "\n",
        "model.compile(loss='categorical_crossentropy', optimizer='adam', metrics=['accuracy'])\n",
        "\n",
        "\n",
        "batch_size = 8\n",
        "epochs = 5\n",
        "model.fit(x_train.reshape((-1, 28, 28, 1)), y_train, batch_size=batch_size, epochs=epochs, validation_split=0.1)\n",
        "\n",
        "    # {1, 2, 4, 8, 16} - slow \n",
        "    # { [32, 64],[ 128, 256] } - Good starters\n",
        "    # [32, 64] - CPU\n",
        "    # [128, 256] - GPU for more boost\n",
        "\n",
        "results = model.evaluate(x_test.reshape((-1, 28, 28, 1)), y_test)\n",
        "print(\"Test loss:\", results[0])\n",
        "print(\"Test accuracy:\", results[1])"
      ]
    },
    {
      "attachments": {},
      "cell_type": "markdown",
      "metadata": {},
      "source": [
        "#Kernel size in the convolutional layer: 5x5\n",
        "#Number of filters in the convolutional layer: 64\n",
        "#Pool size in the max pooling layer: 2x2 \n",
        "#Number of units in the dense layer: dec 64\n",
        "#Activation functions: relu\n",
        "#Learning rate: same\n",
        "#Batch size: 8 \n",
        "#Number of training epochs: 5\n",
        "\n",
        "Increase the epoch increase the time for processing training with a slightly larger loss and lower accuracy. "
      ]
    },
    {
      "cell_type": "markdown",
      "metadata": {
        "id": "a2OUPeAcvXIZ"
      },
      "source": [
        "### Step 5: report (5 points)\n",
        "\n",
        "Discuss the hyperparameters explored, along with the resulting performance metrics. What values of hyperparameters make the model underperform and what values make it more accurate? Did you encounter errors?"
      ]
    },
    {
      "attachments": {},
      "cell_type": "markdown",
      "metadata": {
        "id": "tMknLUz_vxoJ"
      },
      "source": [
        "wrote it under each cell *Write your reporting by editing this text cell*"
      ]
    },
    {
      "cell_type": "markdown",
      "metadata": {},
      "source": []
    }
  ],
  "metadata": {
    "colab": {
      "provenance": []
    },
    "kernelspec": {
      "display_name": "Python 3",
      "name": "python3"
    },
    "language_info": {
      "codemirror_mode": {
        "name": "ipython",
        "version": 3
      },
      "file_extension": ".py",
      "mimetype": "text/x-python",
      "name": "python",
      "nbconvert_exporter": "python",
      "pygments_lexer": "ipython3",
      "version": "3.10.9"
    }
  },
  "nbformat": 4,
  "nbformat_minor": 0
}
