{
  "nbformat": 4,
  "nbformat_minor": 0,
  "metadata": {
    "colab": {
      "provenance": []
    },
    "kernelspec": {
      "name": "python3",
      "display_name": "Python 3"
    },
    "language_info": {
      "name": "python"
    },
    "widgets": {
      "application/vnd.jupyter.widget-state+json": {
        "a56ac203b43a41bc84ca0a1e1f4f824f": {
          "model_module": "@jupyter-widgets/controls",
          "model_name": "HBoxModel",
          "model_module_version": "1.5.0",
          "state": {
            "_dom_classes": [],
            "_model_module": "@jupyter-widgets/controls",
            "_model_module_version": "1.5.0",
            "_model_name": "HBoxModel",
            "_view_count": null,
            "_view_module": "@jupyter-widgets/controls",
            "_view_module_version": "1.5.0",
            "_view_name": "HBoxView",
            "box_style": "",
            "children": [
              "IPY_MODEL_fe225477d7244b50b395fc0282036e4f",
              "IPY_MODEL_5fc06b8cc15246e88dd58235f4ce164e",
              "IPY_MODEL_17499a3787174da59cb66c8948add859"
            ],
            "layout": "IPY_MODEL_3d61a4ba150d4c929f8aba6f8483fae2"
          }
        },
        "fe225477d7244b50b395fc0282036e4f": {
          "model_module": "@jupyter-widgets/controls",
          "model_name": "HTMLModel",
          "model_module_version": "1.5.0",
          "state": {
            "_dom_classes": [],
            "_model_module": "@jupyter-widgets/controls",
            "_model_module_version": "1.5.0",
            "_model_name": "HTMLModel",
            "_view_count": null,
            "_view_module": "@jupyter-widgets/controls",
            "_view_module_version": "1.5.0",
            "_view_name": "HTMLView",
            "description": "",
            "description_tooltip": null,
            "layout": "IPY_MODEL_7ff367aad9ab493fb4dde8726e5d9846",
            "placeholder": "​",
            "style": "IPY_MODEL_49062122613b4376854bd1db02337b68",
            "value": "100%"
          }
        },
        "5fc06b8cc15246e88dd58235f4ce164e": {
          "model_module": "@jupyter-widgets/controls",
          "model_name": "FloatProgressModel",
          "model_module_version": "1.5.0",
          "state": {
            "_dom_classes": [],
            "_model_module": "@jupyter-widgets/controls",
            "_model_module_version": "1.5.0",
            "_model_name": "FloatProgressModel",
            "_view_count": null,
            "_view_module": "@jupyter-widgets/controls",
            "_view_module_version": "1.5.0",
            "_view_name": "ProgressView",
            "bar_style": "success",
            "description": "",
            "description_tooltip": null,
            "layout": "IPY_MODEL_1ff9657f953d4888ab649fe27306e707",
            "max": 1,
            "min": 0,
            "orientation": "horizontal",
            "style": "IPY_MODEL_e073871c8a1d4f72926721191d704f47",
            "value": 1
          }
        },
        "17499a3787174da59cb66c8948add859": {
          "model_module": "@jupyter-widgets/controls",
          "model_name": "HTMLModel",
          "model_module_version": "1.5.0",
          "state": {
            "_dom_classes": [],
            "_model_module": "@jupyter-widgets/controls",
            "_model_module_version": "1.5.0",
            "_model_name": "HTMLModel",
            "_view_count": null,
            "_view_module": "@jupyter-widgets/controls",
            "_view_module_version": "1.5.0",
            "_view_name": "HTMLView",
            "description": "",
            "description_tooltip": null,
            "layout": "IPY_MODEL_e2a4d767ad9746cb984f390a71cc4640",
            "placeholder": "​",
            "style": "IPY_MODEL_177ada8e011e4f4592edea702a34a667",
            "value": " 1/1 [00:00&lt;00:00, 16.22it/s]"
          }
        },
        "3d61a4ba150d4c929f8aba6f8483fae2": {
          "model_module": "@jupyter-widgets/base",
          "model_name": "LayoutModel",
          "model_module_version": "1.2.0",
          "state": {
            "_model_module": "@jupyter-widgets/base",
            "_model_module_version": "1.2.0",
            "_model_name": "LayoutModel",
            "_view_count": null,
            "_view_module": "@jupyter-widgets/base",
            "_view_module_version": "1.2.0",
            "_view_name": "LayoutView",
            "align_content": null,
            "align_items": null,
            "align_self": null,
            "border": null,
            "bottom": null,
            "display": null,
            "flex": null,
            "flex_flow": null,
            "grid_area": null,
            "grid_auto_columns": null,
            "grid_auto_flow": null,
            "grid_auto_rows": null,
            "grid_column": null,
            "grid_gap": null,
            "grid_row": null,
            "grid_template_areas": null,
            "grid_template_columns": null,
            "grid_template_rows": null,
            "height": null,
            "justify_content": null,
            "justify_items": null,
            "left": null,
            "margin": null,
            "max_height": null,
            "max_width": null,
            "min_height": null,
            "min_width": null,
            "object_fit": null,
            "object_position": null,
            "order": null,
            "overflow": null,
            "overflow_x": null,
            "overflow_y": null,
            "padding": null,
            "right": null,
            "top": null,
            "visibility": null,
            "width": null
          }
        },
        "7ff367aad9ab493fb4dde8726e5d9846": {
          "model_module": "@jupyter-widgets/base",
          "model_name": "LayoutModel",
          "model_module_version": "1.2.0",
          "state": {
            "_model_module": "@jupyter-widgets/base",
            "_model_module_version": "1.2.0",
            "_model_name": "LayoutModel",
            "_view_count": null,
            "_view_module": "@jupyter-widgets/base",
            "_view_module_version": "1.2.0",
            "_view_name": "LayoutView",
            "align_content": null,
            "align_items": null,
            "align_self": null,
            "border": null,
            "bottom": null,
            "display": null,
            "flex": null,
            "flex_flow": null,
            "grid_area": null,
            "grid_auto_columns": null,
            "grid_auto_flow": null,
            "grid_auto_rows": null,
            "grid_column": null,
            "grid_gap": null,
            "grid_row": null,
            "grid_template_areas": null,
            "grid_template_columns": null,
            "grid_template_rows": null,
            "height": null,
            "justify_content": null,
            "justify_items": null,
            "left": null,
            "margin": null,
            "max_height": null,
            "max_width": null,
            "min_height": null,
            "min_width": null,
            "object_fit": null,
            "object_position": null,
            "order": null,
            "overflow": null,
            "overflow_x": null,
            "overflow_y": null,
            "padding": null,
            "right": null,
            "top": null,
            "visibility": null,
            "width": null
          }
        },
        "49062122613b4376854bd1db02337b68": {
          "model_module": "@jupyter-widgets/controls",
          "model_name": "DescriptionStyleModel",
          "model_module_version": "1.5.0",
          "state": {
            "_model_module": "@jupyter-widgets/controls",
            "_model_module_version": "1.5.0",
            "_model_name": "DescriptionStyleModel",
            "_view_count": null,
            "_view_module": "@jupyter-widgets/base",
            "_view_module_version": "1.2.0",
            "_view_name": "StyleView",
            "description_width": ""
          }
        },
        "1ff9657f953d4888ab649fe27306e707": {
          "model_module": "@jupyter-widgets/base",
          "model_name": "LayoutModel",
          "model_module_version": "1.2.0",
          "state": {
            "_model_module": "@jupyter-widgets/base",
            "_model_module_version": "1.2.0",
            "_model_name": "LayoutModel",
            "_view_count": null,
            "_view_module": "@jupyter-widgets/base",
            "_view_module_version": "1.2.0",
            "_view_name": "LayoutView",
            "align_content": null,
            "align_items": null,
            "align_self": null,
            "border": null,
            "bottom": null,
            "display": null,
            "flex": null,
            "flex_flow": null,
            "grid_area": null,
            "grid_auto_columns": null,
            "grid_auto_flow": null,
            "grid_auto_rows": null,
            "grid_column": null,
            "grid_gap": null,
            "grid_row": null,
            "grid_template_areas": null,
            "grid_template_columns": null,
            "grid_template_rows": null,
            "height": null,
            "justify_content": null,
            "justify_items": null,
            "left": null,
            "margin": null,
            "max_height": null,
            "max_width": null,
            "min_height": null,
            "min_width": null,
            "object_fit": null,
            "object_position": null,
            "order": null,
            "overflow": null,
            "overflow_x": null,
            "overflow_y": null,
            "padding": null,
            "right": null,
            "top": null,
            "visibility": null,
            "width": null
          }
        },
        "e073871c8a1d4f72926721191d704f47": {
          "model_module": "@jupyter-widgets/controls",
          "model_name": "ProgressStyleModel",
          "model_module_version": "1.5.0",
          "state": {
            "_model_module": "@jupyter-widgets/controls",
            "_model_module_version": "1.5.0",
            "_model_name": "ProgressStyleModel",
            "_view_count": null,
            "_view_module": "@jupyter-widgets/base",
            "_view_module_version": "1.2.0",
            "_view_name": "StyleView",
            "bar_color": null,
            "description_width": ""
          }
        },
        "e2a4d767ad9746cb984f390a71cc4640": {
          "model_module": "@jupyter-widgets/base",
          "model_name": "LayoutModel",
          "model_module_version": "1.2.0",
          "state": {
            "_model_module": "@jupyter-widgets/base",
            "_model_module_version": "1.2.0",
            "_model_name": "LayoutModel",
            "_view_count": null,
            "_view_module": "@jupyter-widgets/base",
            "_view_module_version": "1.2.0",
            "_view_name": "LayoutView",
            "align_content": null,
            "align_items": null,
            "align_self": null,
            "border": null,
            "bottom": null,
            "display": null,
            "flex": null,
            "flex_flow": null,
            "grid_area": null,
            "grid_auto_columns": null,
            "grid_auto_flow": null,
            "grid_auto_rows": null,
            "grid_column": null,
            "grid_gap": null,
            "grid_row": null,
            "grid_template_areas": null,
            "grid_template_columns": null,
            "grid_template_rows": null,
            "height": null,
            "justify_content": null,
            "justify_items": null,
            "left": null,
            "margin": null,
            "max_height": null,
            "max_width": null,
            "min_height": null,
            "min_width": null,
            "object_fit": null,
            "object_position": null,
            "order": null,
            "overflow": null,
            "overflow_x": null,
            "overflow_y": null,
            "padding": null,
            "right": null,
            "top": null,
            "visibility": null,
            "width": null
          }
        },
        "177ada8e011e4f4592edea702a34a667": {
          "model_module": "@jupyter-widgets/controls",
          "model_name": "DescriptionStyleModel",
          "model_module_version": "1.5.0",
          "state": {
            "_model_module": "@jupyter-widgets/controls",
            "_model_module_version": "1.5.0",
            "_model_name": "DescriptionStyleModel",
            "_view_count": null,
            "_view_module": "@jupyter-widgets/base",
            "_view_module_version": "1.2.0",
            "_view_name": "StyleView",
            "description_width": ""
          }
        }
      }
    }
  },
  "cells": [
    {
      "cell_type": "markdown",
      "source": [
        "# MSA8600\n",
        "## Assignment 1: Detecting ChatGPT-generated vs. Human-generated texts\n",
        "\n",
        "### Description\n",
        "\n",
        "Our goal is to explore [GPT-wiki-intro dataset](https://huggingface.co/datasets/aadityaubhat/GPT-wiki-intro) to build a model that predicts whether a text is generated by a GPT model, or by a human. Please read the description of each column by navigating to the above link, and scrolling down to the \"Schema for the dataset\" section.\n",
        "\n",
        "\n",
        "### Instructions\n",
        "\n",
        "1. Please rename the notebook by clicking on the title, and replace YourName with your first and last name. \n",
        "  - For example, if your first name is `Jodie Comer` the notebook name should be: `MSA8600-Spring2023-Assignment1-JodieComer`\n",
        "\n",
        "2. Complete code cells based on the questions (Total:4 questions)."
      ],
      "metadata": {
        "id": "NbaArE4-ra-W"
      }
    },
    {
      "cell_type": "code",
      "execution_count": null,
      "metadata": {
        "id": "6cGdjuWfqlB4"
      },
      "outputs": [],
      "source": [
        "#install the datasets package\n",
        "!pip install -q datasets"
      ]
    },
    {
      "cell_type": "code",
      "source": [
        "# importing libraries\n",
        "from datasets import load_dataset\n",
        "import sklearn.model_selection\n",
        "import pandas as pd\n",
        "import numpy as np\n",
        "import tensorflow as tf"
      ],
      "metadata": {
        "id": "YrTlWcPrv6pb"
      },
      "execution_count": null,
      "outputs": []
    },
    {
      "cell_type": "markdown",
      "source": [
        "1. Complete the following code cell to show a list of datasets of your desired keyword. Then, load one based on your preference and store it in the `selected_dataset` variable.\n",
        "  - Examples: movie, book, song, amazon, yelp, cities, etc."
      ],
      "metadata": {
        "id": "kxET93Twsm3P"
      }
    },
    {
      "cell_type": "code",
      "source": [
        "dataset = load_dataset(\"aadityaubhat/GPT-wiki-intro\")\n",
        "train_dataset, test_dataset = sklearn.model_selection.train_test_split(dataset['train'], \n",
        "                                                                       test_size=0.2, \n",
        "                                                                       random_state=1144)"
      ],
      "metadata": {
        "colab": {
          "base_uri": "https://localhost:8080/",
          "height": 87,
          "referenced_widgets": [
            "a56ac203b43a41bc84ca0a1e1f4f824f",
            "fe225477d7244b50b395fc0282036e4f",
            "5fc06b8cc15246e88dd58235f4ce164e",
            "17499a3787174da59cb66c8948add859",
            "3d61a4ba150d4c929f8aba6f8483fae2",
            "7ff367aad9ab493fb4dde8726e5d9846",
            "49062122613b4376854bd1db02337b68",
            "1ff9657f953d4888ab649fe27306e707",
            "e073871c8a1d4f72926721191d704f47",
            "e2a4d767ad9746cb984f390a71cc4640",
            "177ada8e011e4f4592edea702a34a667"
          ]
        },
        "id": "gaT0kKPLqoSf",
        "outputId": "b3f81819-e245-4843-9dd6-660bd1f790ef"
      },
      "execution_count": null,
      "outputs": [
        {
          "output_type": "stream",
          "name": "stderr",
          "text": [
            "WARNING:datasets.builder:Found cached dataset csv (/root/.cache/huggingface/datasets/aadityaubhat___csv/aadityaubhat--GPT-wiki-intro-10ad8b711a5f3880/0.0.0/6b34fb8fcf56f7c8ba51dc895bfa2bfbe43546f190a60fcf74bb5e8afdcc2317)\n"
          ]
        },
        {
          "output_type": "display_data",
          "data": {
            "text/plain": [
              "  0%|          | 0/1 [00:00<?, ?it/s]"
            ],
            "application/vnd.jupyter.widget-view+json": {
              "version_major": 2,
              "version_minor": 0,
              "model_id": "a56ac203b43a41bc84ca0a1e1f4f824f"
            }
          },
          "metadata": {}
        }
      ]
    },
    {
      "cell_type": "code",
      "source": [
        "train_df = pd.DataFrame(train_dataset)\n",
        "test_df = pd.DataFrame(test_dataset)\n",
        "\n",
        "test_df.head()"
      ],
      "metadata": {
        "colab": {
          "base_uri": "https://localhost:8080/",
          "height": 617
        },
        "id": "FNLFTIRY1Cgp",
        "outputId": "75698725-9ab7-40d9-f2cc-e8039fe6551b"
      },
      "execution_count": null,
      "outputs": [
        {
          "output_type": "execute_result",
          "data": {
            "text/plain": [
              "         id                                                url  \\\n",
              "0  20850495  https://en.wikipedia.org/wiki/Heinrich%20Chris...   \n",
              "1   9418887  https://en.wikipedia.org/wiki/The%20Blue%20Hor...   \n",
              "2  53010848             https://en.wikipedia.org/wiki/Amud%201   \n",
              "3  24909241          https://en.wikipedia.org/wiki/Zheng%20Zhu   \n",
              "4  54713622   https://en.wikipedia.org/wiki/Tomb%20of%20Vijaya   \n",
              "\n",
              "                      title  \\\n",
              "0  Heinrich Christoph Kolbe   \n",
              "1          The Blue Horizon   \n",
              "2                    Amud 1   \n",
              "3                 Zheng Zhu   \n",
              "4            Tomb of Vijaya   \n",
              "\n",
              "                                          wiki_intro  \\\n",
              "0  Heinrich Christoph Kolbe (2 April 1771 – 16 Ja...   \n",
              "1  The Blue Horizon is a historic 1,346-seat form...   \n",
              "2  Amud 1 is a nearly complete but poorly preserv...   \n",
              "3  Zheng Zhu (鄭注) (died December 18, 835), probab...   \n",
              "4  Tomb of Vijaya  is an ancient monument, situat...   \n",
              "\n",
              "                                     generated_intro  title_len  \\\n",
              "0  Heinrich Christoph Kolbe (2 April 1771 – 16 Oc...          3   \n",
              "1  The Blue Horizon is a historic 1,346-seat thea...          3   \n",
              "2  Amud 1 is a nearly complete but as yet unnamed...          2   \n",
              "3  Zheng Zhu (鄭注) (died December 18, 835), courte...          2   \n",
              "4  Tomb of Vijaya  is an ancient Hindu temple loc...          3   \n",
              "\n",
              "   wiki_intro_len  generated_intro_len  \\\n",
              "0             151                  126   \n",
              "1             189                  146   \n",
              "2             160                  175   \n",
              "3             162                  190   \n",
              "4             193                  130   \n",
              "\n",
              "                                              prompt  \\\n",
              "0  200 word wikipedia style introduction on 'Hein...   \n",
              "1  200 word wikipedia style introduction on 'The ...   \n",
              "2  200 word wikipedia style introduction on 'Amud...   \n",
              "3  200 word wikipedia style introduction on 'Zhen...   \n",
              "4  200 word wikipedia style introduction on 'Tomb...   \n",
              "\n",
              "                                      generated_text  prompt_tokens  \\\n",
              "0   16 October 1834) was a German Roman Catholic ...             32   \n",
              "1   theater located in downtown Lexington, Kentuc...             27   \n",
              "2   as yet unnamed early Bronze Age city in the t...             24   \n",
              "3   courtesy name Zongshi (宗士), was an official o...             34   \n",
              "4   Hindu temple located in the city of Mahabalip...             26   \n",
              "\n",
              "   generated_text_tokens  \n",
              "0                    168  \n",
              "1                    175  \n",
              "2                    216  \n",
              "3                    300  \n",
              "4                    155  "
            ],
            "text/html": [
              "\n",
              "  <div id=\"df-9e7637a4-6020-4c9d-82fd-62822de8b1a6\">\n",
              "    <div class=\"colab-df-container\">\n",
              "      <div>\n",
              "<style scoped>\n",
              "    .dataframe tbody tr th:only-of-type {\n",
              "        vertical-align: middle;\n",
              "    }\n",
              "\n",
              "    .dataframe tbody tr th {\n",
              "        vertical-align: top;\n",
              "    }\n",
              "\n",
              "    .dataframe thead th {\n",
              "        text-align: right;\n",
              "    }\n",
              "</style>\n",
              "<table border=\"1\" class=\"dataframe\">\n",
              "  <thead>\n",
              "    <tr style=\"text-align: right;\">\n",
              "      <th></th>\n",
              "      <th>id</th>\n",
              "      <th>url</th>\n",
              "      <th>title</th>\n",
              "      <th>wiki_intro</th>\n",
              "      <th>generated_intro</th>\n",
              "      <th>title_len</th>\n",
              "      <th>wiki_intro_len</th>\n",
              "      <th>generated_intro_len</th>\n",
              "      <th>prompt</th>\n",
              "      <th>generated_text</th>\n",
              "      <th>prompt_tokens</th>\n",
              "      <th>generated_text_tokens</th>\n",
              "    </tr>\n",
              "  </thead>\n",
              "  <tbody>\n",
              "    <tr>\n",
              "      <th>0</th>\n",
              "      <td>20850495</td>\n",
              "      <td>https://en.wikipedia.org/wiki/Heinrich%20Chris...</td>\n",
              "      <td>Heinrich Christoph Kolbe</td>\n",
              "      <td>Heinrich Christoph Kolbe (2 April 1771 – 16 Ja...</td>\n",
              "      <td>Heinrich Christoph Kolbe (2 April 1771 – 16 Oc...</td>\n",
              "      <td>3</td>\n",
              "      <td>151</td>\n",
              "      <td>126</td>\n",
              "      <td>200 word wikipedia style introduction on 'Hein...</td>\n",
              "      <td>16 October 1834) was a German Roman Catholic ...</td>\n",
              "      <td>32</td>\n",
              "      <td>168</td>\n",
              "    </tr>\n",
              "    <tr>\n",
              "      <th>1</th>\n",
              "      <td>9418887</td>\n",
              "      <td>https://en.wikipedia.org/wiki/The%20Blue%20Hor...</td>\n",
              "      <td>The Blue Horizon</td>\n",
              "      <td>The Blue Horizon is a historic 1,346-seat form...</td>\n",
              "      <td>The Blue Horizon is a historic 1,346-seat thea...</td>\n",
              "      <td>3</td>\n",
              "      <td>189</td>\n",
              "      <td>146</td>\n",
              "      <td>200 word wikipedia style introduction on 'The ...</td>\n",
              "      <td>theater located in downtown Lexington, Kentuc...</td>\n",
              "      <td>27</td>\n",
              "      <td>175</td>\n",
              "    </tr>\n",
              "    <tr>\n",
              "      <th>2</th>\n",
              "      <td>53010848</td>\n",
              "      <td>https://en.wikipedia.org/wiki/Amud%201</td>\n",
              "      <td>Amud 1</td>\n",
              "      <td>Amud 1 is a nearly complete but poorly preserv...</td>\n",
              "      <td>Amud 1 is a nearly complete but as yet unnamed...</td>\n",
              "      <td>2</td>\n",
              "      <td>160</td>\n",
              "      <td>175</td>\n",
              "      <td>200 word wikipedia style introduction on 'Amud...</td>\n",
              "      <td>as yet unnamed early Bronze Age city in the t...</td>\n",
              "      <td>24</td>\n",
              "      <td>216</td>\n",
              "    </tr>\n",
              "    <tr>\n",
              "      <th>3</th>\n",
              "      <td>24909241</td>\n",
              "      <td>https://en.wikipedia.org/wiki/Zheng%20Zhu</td>\n",
              "      <td>Zheng Zhu</td>\n",
              "      <td>Zheng Zhu (鄭注) (died December 18, 835), probab...</td>\n",
              "      <td>Zheng Zhu (鄭注) (died December 18, 835), courte...</td>\n",
              "      <td>2</td>\n",
              "      <td>162</td>\n",
              "      <td>190</td>\n",
              "      <td>200 word wikipedia style introduction on 'Zhen...</td>\n",
              "      <td>courtesy name Zongshi (宗士), was an official o...</td>\n",
              "      <td>34</td>\n",
              "      <td>300</td>\n",
              "    </tr>\n",
              "    <tr>\n",
              "      <th>4</th>\n",
              "      <td>54713622</td>\n",
              "      <td>https://en.wikipedia.org/wiki/Tomb%20of%20Vijaya</td>\n",
              "      <td>Tomb of Vijaya</td>\n",
              "      <td>Tomb of Vijaya  is an ancient monument, situat...</td>\n",
              "      <td>Tomb of Vijaya  is an ancient Hindu temple loc...</td>\n",
              "      <td>3</td>\n",
              "      <td>193</td>\n",
              "      <td>130</td>\n",
              "      <td>200 word wikipedia style introduction on 'Tomb...</td>\n",
              "      <td>Hindu temple located in the city of Mahabalip...</td>\n",
              "      <td>26</td>\n",
              "      <td>155</td>\n",
              "    </tr>\n",
              "  </tbody>\n",
              "</table>\n",
              "</div>\n",
              "      <button class=\"colab-df-convert\" onclick=\"convertToInteractive('df-9e7637a4-6020-4c9d-82fd-62822de8b1a6')\"\n",
              "              title=\"Convert this dataframe to an interactive table.\"\n",
              "              style=\"display:none;\">\n",
              "        \n",
              "  <svg xmlns=\"http://www.w3.org/2000/svg\" height=\"24px\"viewBox=\"0 0 24 24\"\n",
              "       width=\"24px\">\n",
              "    <path d=\"M0 0h24v24H0V0z\" fill=\"none\"/>\n",
              "    <path d=\"M18.56 5.44l.94 2.06.94-2.06 2.06-.94-2.06-.94-.94-2.06-.94 2.06-2.06.94zm-11 1L8.5 8.5l.94-2.06 2.06-.94-2.06-.94L8.5 2.5l-.94 2.06-2.06.94zm10 10l.94 2.06.94-2.06 2.06-.94-2.06-.94-.94-2.06-.94 2.06-2.06.94z\"/><path d=\"M17.41 7.96l-1.37-1.37c-.4-.4-.92-.59-1.43-.59-.52 0-1.04.2-1.43.59L10.3 9.45l-7.72 7.72c-.78.78-.78 2.05 0 2.83L4 21.41c.39.39.9.59 1.41.59.51 0 1.02-.2 1.41-.59l7.78-7.78 2.81-2.81c.8-.78.8-2.07 0-2.86zM5.41 20L4 18.59l7.72-7.72 1.47 1.35L5.41 20z\"/>\n",
              "  </svg>\n",
              "      </button>\n",
              "      \n",
              "  <style>\n",
              "    .colab-df-container {\n",
              "      display:flex;\n",
              "      flex-wrap:wrap;\n",
              "      gap: 12px;\n",
              "    }\n",
              "\n",
              "    .colab-df-convert {\n",
              "      background-color: #E8F0FE;\n",
              "      border: none;\n",
              "      border-radius: 50%;\n",
              "      cursor: pointer;\n",
              "      display: none;\n",
              "      fill: #1967D2;\n",
              "      height: 32px;\n",
              "      padding: 0 0 0 0;\n",
              "      width: 32px;\n",
              "    }\n",
              "\n",
              "    .colab-df-convert:hover {\n",
              "      background-color: #E2EBFA;\n",
              "      box-shadow: 0px 1px 2px rgba(60, 64, 67, 0.3), 0px 1px 3px 1px rgba(60, 64, 67, 0.15);\n",
              "      fill: #174EA6;\n",
              "    }\n",
              "\n",
              "    [theme=dark] .colab-df-convert {\n",
              "      background-color: #3B4455;\n",
              "      fill: #D2E3FC;\n",
              "    }\n",
              "\n",
              "    [theme=dark] .colab-df-convert:hover {\n",
              "      background-color: #434B5C;\n",
              "      box-shadow: 0px 1px 3px 1px rgba(0, 0, 0, 0.15);\n",
              "      filter: drop-shadow(0px 1px 2px rgba(0, 0, 0, 0.3));\n",
              "      fill: #FFFFFF;\n",
              "    }\n",
              "  </style>\n",
              "\n",
              "      <script>\n",
              "        const buttonEl =\n",
              "          document.querySelector('#df-9e7637a4-6020-4c9d-82fd-62822de8b1a6 button.colab-df-convert');\n",
              "        buttonEl.style.display =\n",
              "          google.colab.kernel.accessAllowed ? 'block' : 'none';\n",
              "\n",
              "        async function convertToInteractive(key) {\n",
              "          const element = document.querySelector('#df-9e7637a4-6020-4c9d-82fd-62822de8b1a6');\n",
              "          const dataTable =\n",
              "            await google.colab.kernel.invokeFunction('convertToInteractive',\n",
              "                                                     [key], {});\n",
              "          if (!dataTable) return;\n",
              "\n",
              "          const docLinkHtml = 'Like what you see? Visit the ' +\n",
              "            '<a target=\"_blank\" href=https://colab.research.google.com/notebooks/data_table.ipynb>data table notebook</a>'\n",
              "            + ' to learn more about interactive tables.';\n",
              "          element.innerHTML = '';\n",
              "          dataTable['output_type'] = 'display_data';\n",
              "          await google.colab.output.renderOutput(dataTable, element);\n",
              "          const docLink = document.createElement('div');\n",
              "          docLink.innerHTML = docLinkHtml;\n",
              "          element.appendChild(docLink);\n",
              "        }\n",
              "      </script>\n",
              "    </div>\n",
              "  </div>\n",
              "  "
            ]
          },
          "metadata": {},
          "execution_count": 4
        }
      ]
    },
    {
      "cell_type": "markdown",
      "source": [
        "#### Question 1 (3 points)\n",
        "In the following code cell:\n",
        "- Print number of the rows in the `train_df`\n",
        "\n",
        "- Print number of the rows in the `train_df`\n",
        "\n",
        "- Print a random row's \"url\",\"wiki_intro\",\"prompt\", and \"generated_text\""
      ],
      "metadata": {
        "id": "35N9cefL6FXw"
      }
    },
    {
      "cell_type": "code",
      "source": [
        "# Write your code here:\n"
      ],
      "metadata": {
        "id": "CQ4onUyg0tV8"
      },
      "execution_count": null,
      "outputs": []
    },
    {
      "cell_type": "markdown",
      "source": [
        "#### Question 2 (3 points)\n",
        "By running the `tf.keras.losses.mean_squared_error` function on the `train_df`, calculate the Mean Squared Error of the `wiki_intro_len` and `generated_intro_len`. "
      ],
      "metadata": {
        "id": "5npcObHl5_w-"
      }
    },
    {
      "cell_type": "code",
      "source": [
        "# Write your code here:\n"
      ],
      "metadata": {
        "id": "DWu7ZaQr3oqW"
      },
      "execution_count": null,
      "outputs": []
    },
    {
      "cell_type": "markdown",
      "source": [
        "#### Question 3 (4 points)\n",
        "\n",
        "What are the average, minimum, maximum, and median of the `wiki_intro_len` and `generated_intro_len` columns?"
      ],
      "metadata": {
        "id": "dpwZUpv57i0c"
      }
    },
    {
      "cell_type": "code",
      "source": [
        "# Write your code here:\n"
      ],
      "metadata": {
        "id": "xcgQKN0I7j6G"
      },
      "execution_count": null,
      "outputs": []
    },
    {
      "cell_type": "markdown",
      "source": [
        "#### Question 4 (5 points)\n",
        "\n",
        "Using matrix multiplication, multiply `wiki_intro_len` to the transpose of `generated_intro_len`, and store the result in a variable `result`. Then, by writing code:\n",
        "1. Print the shape of the `result`.\n",
        "2. Print the minmum and maximum values of the `result`. "
      ],
      "metadata": {
        "id": "P_36hLn89C4k"
      }
    },
    {
      "cell_type": "code",
      "source": [
        "# Write your code here:\n"
      ],
      "metadata": {
        "id": "aCmrt7tq9Gb7"
      },
      "execution_count": null,
      "outputs": []
    }
  ]
}